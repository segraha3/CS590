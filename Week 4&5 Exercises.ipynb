{
 "cells": [
  {
   "cell_type": "code",
   "execution_count": 1,
   "metadata": {},
   "outputs": [],
   "source": [
    "#Import Libraries\n",
    "import os\n",
    "import numpy as np\n",
    "import pandas as pd"
   ]
  },
  {
   "cell_type": "code",
   "execution_count": 3,
   "metadata": {},
   "outputs": [
    {
     "data": {
      "text/plain": [
       "'C:\\\\Users\\\\segraha3\\\\Desktop\\\\CS590'"
      ]
     },
     "execution_count": 3,
     "metadata": {},
     "output_type": "execute_result"
    }
   ],
   "source": [
    "os.getcwd()"
   ]
  },
  {
   "cell_type": "code",
   "execution_count": 5,
   "metadata": {},
   "outputs": [],
   "source": [
    "#Read in peanut_lines\n",
    "peanut_lines = pd.read_csv('peanut_lines.csv', encoding='ISO-8859-1')"
   ]
  },
  {
   "cell_type": "code",
   "execution_count": 6,
   "metadata": {},
   "outputs": [
    {
     "data": {
      "text/html": [
       "<div>\n",
       "<style scoped>\n",
       "    .dataframe tbody tr th:only-of-type {\n",
       "        vertical-align: middle;\n",
       "    }\n",
       "\n",
       "    .dataframe tbody tr th {\n",
       "        vertical-align: top;\n",
       "    }\n",
       "\n",
       "    .dataframe thead th {\n",
       "        text-align: right;\n",
       "    }\n",
       "</style>\n",
       "<table border=\"1\" class=\"dataframe\">\n",
       "  <thead>\n",
       "    <tr style=\"text-align: right;\">\n",
       "      <th></th>\n",
       "      <th>NC_Accession</th>\n",
       "      <th>Identity or Parentage</th>\n",
       "      <th>Pedigree</th>\n",
       "      <th>FAG</th>\n",
       "    </tr>\n",
       "  </thead>\n",
       "  <tbody>\n",
       "    <tr>\n",
       "      <th>0</th>\n",
       "      <td>ACI WT09-0761</td>\n",
       "      <td>ACI WT09-0761</td>\n",
       "      <td>NaN</td>\n",
       "      <td>Check</td>\n",
       "    </tr>\n",
       "    <tr>\n",
       "      <th>1</th>\n",
       "      <td>ACI WT11-0351</td>\n",
       "      <td>ACI WT11-0351</td>\n",
       "      <td>NaN</td>\n",
       "      <td>ol ol</td>\n",
       "    </tr>\n",
       "    <tr>\n",
       "      <th>2</th>\n",
       "      <td>ACI WT12-0226</td>\n",
       "      <td>ACI WT12-0226</td>\n",
       "      <td>NaN</td>\n",
       "      <td>ol ol</td>\n",
       "    </tr>\n",
       "    <tr>\n",
       "      <th>3</th>\n",
       "      <td>ACI WT12-0419</td>\n",
       "      <td>ACI WT12-0419</td>\n",
       "      <td>NaN</td>\n",
       "      <td>Check</td>\n",
       "    </tr>\n",
       "    <tr>\n",
       "      <th>4</th>\n",
       "      <td>ACI WT12-0420</td>\n",
       "      <td>ACI WT12-0420</td>\n",
       "      <td>NaN</td>\n",
       "      <td>ol ol</td>\n",
       "    </tr>\n",
       "  </tbody>\n",
       "</table>\n",
       "</div>"
      ],
      "text/plain": [
       "    NC_Accession Identity or Parentage Pedigree    FAG\n",
       "0  ACI WT09-0761         ACI WT09-0761      NaN  Check\n",
       "1  ACI WT11-0351         ACI WT11-0351      NaN  ol ol\n",
       "2  ACI WT12-0226         ACI WT12-0226      NaN  ol ol\n",
       "3  ACI WT12-0419         ACI WT12-0419      NaN  Check\n",
       "4  ACI WT12-0420         ACI WT12-0420      NaN  ol ol"
      ]
     },
     "execution_count": 6,
     "metadata": {},
     "output_type": "execute_result"
    }
   ],
   "source": [
    "#Check head of files\n",
    "peanut_lines.head()"
   ]
  },
  {
   "cell_type": "code",
   "execution_count": 8,
   "metadata": {},
   "outputs": [
    {
     "name": "stdout",
     "output_type": "stream",
     "text": [
      "<class 'pandas.core.frame.DataFrame'>\n",
      "RangeIndex: 859 entries, 0 to 858\n",
      "Data columns (total 4 columns):\n",
      "NC_Accession             466 non-null object\n",
      "Identity or Parentage    466 non-null object\n",
      "Pedigree                 409 non-null object\n",
      "FAG                      466 non-null object\n",
      "dtypes: object(4)\n",
      "memory usage: 26.9+ KB\n"
     ]
    },
    {
     "data": {
      "text/plain": [
       "463"
      ]
     },
     "execution_count": 8,
     "metadata": {},
     "output_type": "execute_result"
    }
   ],
   "source": [
    "#Number of peanut_lines\n",
    "peanut_lines.info()\n",
    "#Number of unique entries\n",
    "peanut_lines['NC_Accession'].nunique()"
   ]
  },
  {
   "cell_type": "code",
   "execution_count": 10,
   "metadata": {},
   "outputs": [],
   "source": [
    "#read in peanut_yield\n",
    "peanut_yield = pd.read_csv('peanut_yield.txt', sep='\\t', encoding='ISO-8859-1')"
   ]
  },
  {
   "cell_type": "code",
   "execution_count": 13,
   "metadata": {},
   "outputs": [
    {
     "data": {
      "text/plain": [
       "['Year', 'Location', 'Name', 'Label', 'NC_Accession', 'Plot_Yield', 'Yield']"
      ]
     },
     "execution_count": 13,
     "metadata": {},
     "output_type": "execute_result"
    }
   ],
   "source": [
    "#Get column names for peanut_yield\n",
    "list(peanut_yield.columns.values)"
   ]
  },
  {
   "cell_type": "code",
   "execution_count": 16,
   "metadata": {},
   "outputs": [],
   "source": [
    "#Merge data frames on NC_Accession keeping all of peanut_yield (Left outer join)\n",
    "peanut_data = pd.merge(peanut_yield, peanut_lines, how = 'left', on = 'NC_Accession')"
   ]
  },
  {
   "cell_type": "code",
   "execution_count": 21,
   "metadata": {},
   "outputs": [
    {
     "data": {
      "text/html": [
       "<div>\n",
       "<style scoped>\n",
       "    .dataframe tbody tr th:only-of-type {\n",
       "        vertical-align: middle;\n",
       "    }\n",
       "\n",
       "    .dataframe tbody tr th {\n",
       "        vertical-align: top;\n",
       "    }\n",
       "\n",
       "    .dataframe thead th {\n",
       "        text-align: right;\n",
       "    }\n",
       "</style>\n",
       "<table border=\"1\" class=\"dataframe\">\n",
       "  <thead>\n",
       "    <tr style=\"text-align: right;\">\n",
       "      <th></th>\n",
       "      <th>Plot_Yield</th>\n",
       "      <th>Yield</th>\n",
       "    </tr>\n",
       "    <tr>\n",
       "      <th>Year</th>\n",
       "      <th></th>\n",
       "      <th></th>\n",
       "    </tr>\n",
       "  </thead>\n",
       "  <tbody>\n",
       "    <tr>\n",
       "      <th>2010</th>\n",
       "      <td>7.508470</td>\n",
       "      <td>2270.745902</td>\n",
       "    </tr>\n",
       "    <tr>\n",
       "      <th>2011</th>\n",
       "      <td>11.873512</td>\n",
       "      <td>3591.779762</td>\n",
       "    </tr>\n",
       "    <tr>\n",
       "      <th>2012</th>\n",
       "      <td>11.610753</td>\n",
       "      <td>3512.265233</td>\n",
       "    </tr>\n",
       "    <tr>\n",
       "      <th>2013</th>\n",
       "      <td>10.958824</td>\n",
       "      <td>3315.434641</td>\n",
       "    </tr>\n",
       "    <tr>\n",
       "      <th>2014</th>\n",
       "      <td>13.937624</td>\n",
       "      <td>4216.112211</td>\n",
       "    </tr>\n",
       "    <tr>\n",
       "      <th>2015</th>\n",
       "      <td>16.135644</td>\n",
       "      <td>4880.762376</td>\n",
       "    </tr>\n",
       "    <tr>\n",
       "      <th>2016</th>\n",
       "      <td>10.317582</td>\n",
       "      <td>3121.659341</td>\n",
       "    </tr>\n",
       "    <tr>\n",
       "      <th>2017</th>\n",
       "      <td>13.161333</td>\n",
       "      <td>3981.600000</td>\n",
       "    </tr>\n",
       "    <tr>\n",
       "      <th>2018</th>\n",
       "      <td>11.975667</td>\n",
       "      <td>3623.333333</td>\n",
       "    </tr>\n",
       "  </tbody>\n",
       "</table>\n",
       "</div>"
      ],
      "text/plain": [
       "      Plot_Yield        Yield\n",
       "Year                         \n",
       "2010    7.508470  2270.745902\n",
       "2011   11.873512  3591.779762\n",
       "2012   11.610753  3512.265233\n",
       "2013   10.958824  3315.434641\n",
       "2014   13.937624  4216.112211\n",
       "2015   16.135644  4880.762376\n",
       "2016   10.317582  3121.659341\n",
       "2017   13.161333  3981.600000\n",
       "2018   11.975667  3623.333333"
      ]
     },
     "execution_count": 21,
     "metadata": {},
     "output_type": "execute_result"
    }
   ],
   "source": [
    "#Group by year and get means\n",
    "by_year = peanut_data.groupby('Year')\n",
    "by_year.mean()"
   ]
  },
  {
   "cell_type": "code",
   "execution_count": 31,
   "metadata": {
    "scrolled": true
   },
   "outputs": [
    {
     "data": {
      "text/plain": [
       "8619.3"
      ]
     },
     "execution_count": 31,
     "metadata": {},
     "output_type": "execute_result"
    }
   ],
   "source": [
    "#Sort by yield\n",
    "descending = peanut_data.sort_values(by='Yield', ascending=False)\n",
    "top10 = descending.head(10)\n",
    "#Get mean yield of top 10 lines\n",
    "top10['Yield'].mean()"
   ]
  },
  {
   "cell_type": "code",
   "execution_count": 39,
   "metadata": {},
   "outputs": [],
   "source": [
    "#value_counts by accession\n",
    "list_top = peanut_data['NC_Accession'].value_counts()\n",
    "common10 = list_top.head(10)"
   ]
  },
  {
   "cell_type": "code",
   "execution_count": 53,
   "metadata": {},
   "outputs": [],
   "source": [
    "#Create new df with subset of data that match conditions\n",
    "line_data = peanut_data[((peanut_data['Location']=='LEW')|(peanut_data['Location'] == 'RMT'))&((peanut_data['NC_Accession']=='Bailey')|(peanut_data['NC_Accession']=='Sullivan')|(peanut_data['NC_Accession']=='Wynne')|(peanut_data['NC_Accession']=='Emery')|(peanut_data['NC_Accession']=='Bailey II')|(peanut_data['NC_Accession']=='N14023'))]"
   ]
  },
  {
   "cell_type": "code",
   "execution_count": 56,
   "metadata": {},
   "outputs": [],
   "source": [
    "#groupby accession and get means\n",
    "line_means = line_data.groupby('NC_Accession').mean()"
   ]
  },
  {
   "cell_type": "code",
   "execution_count": 57,
   "metadata": {},
   "outputs": [
    {
     "data": {
      "text/html": [
       "<div>\n",
       "<style scoped>\n",
       "    .dataframe tbody tr th:only-of-type {\n",
       "        vertical-align: middle;\n",
       "    }\n",
       "\n",
       "    .dataframe tbody tr th {\n",
       "        vertical-align: top;\n",
       "    }\n",
       "\n",
       "    .dataframe thead th {\n",
       "        text-align: right;\n",
       "    }\n",
       "</style>\n",
       "<table border=\"1\" class=\"dataframe\">\n",
       "  <thead>\n",
       "    <tr style=\"text-align: right;\">\n",
       "      <th></th>\n",
       "      <th>Year</th>\n",
       "      <th>Plot_Yield</th>\n",
       "      <th>Yield</th>\n",
       "    </tr>\n",
       "    <tr>\n",
       "      <th>NC_Accession</th>\n",
       "      <th></th>\n",
       "      <th></th>\n",
       "      <th></th>\n",
       "    </tr>\n",
       "  </thead>\n",
       "  <tbody>\n",
       "    <tr>\n",
       "      <th>Bailey</th>\n",
       "      <td>2014.0</td>\n",
       "      <td>12.533333</td>\n",
       "      <td>3791.000000</td>\n",
       "    </tr>\n",
       "    <tr>\n",
       "      <th>Bailey II</th>\n",
       "      <td>2015.0</td>\n",
       "      <td>13.950000</td>\n",
       "      <td>4221.571429</td>\n",
       "    </tr>\n",
       "    <tr>\n",
       "      <th>Emery</th>\n",
       "      <td>2014.0</td>\n",
       "      <td>16.561111</td>\n",
       "      <td>5008.111111</td>\n",
       "    </tr>\n",
       "    <tr>\n",
       "      <th>N14023</th>\n",
       "      <td>2016.0</td>\n",
       "      <td>15.430000</td>\n",
       "      <td>4667.200000</td>\n",
       "    </tr>\n",
       "    <tr>\n",
       "      <th>Sullivan</th>\n",
       "      <td>2014.0</td>\n",
       "      <td>12.611111</td>\n",
       "      <td>3815.388889</td>\n",
       "    </tr>\n",
       "    <tr>\n",
       "      <th>Wynne</th>\n",
       "      <td>2014.0</td>\n",
       "      <td>13.516667</td>\n",
       "      <td>4091.888889</td>\n",
       "    </tr>\n",
       "  </tbody>\n",
       "</table>\n",
       "</div>"
      ],
      "text/plain": [
       "                Year  Plot_Yield        Yield\n",
       "NC_Accession                                 \n",
       "Bailey        2014.0   12.533333  3791.000000\n",
       "Bailey II     2015.0   13.950000  4221.571429\n",
       "Emery         2014.0   16.561111  5008.111111\n",
       "N14023        2016.0   15.430000  4667.200000\n",
       "Sullivan      2014.0   12.611111  3815.388889\n",
       "Wynne         2014.0   13.516667  4091.888889"
      ]
     },
     "execution_count": 57,
     "metadata": {},
     "output_type": "execute_result"
    }
   ],
   "source": [
    "\n"
   ]
  },
  {
   "cell_type": "code",
   "execution_count": 59,
   "metadata": {},
   "outputs": [],
   "source": [
    "#Export to excel\n",
    "line_means.to_excel('NCSU_release.xlsx', index=False)"
   ]
  },
  {
   "cell_type": "code",
   "execution_count": null,
   "metadata": {},
   "outputs": [],
   "source": []
  }
 ],
 "metadata": {
  "kernelspec": {
   "display_name": "Python 3",
   "language": "python",
   "name": "python3"
  },
  "language_info": {
   "codemirror_mode": {
    "name": "ipython",
    "version": 3
   },
   "file_extension": ".py",
   "mimetype": "text/x-python",
   "name": "python",
   "nbconvert_exporter": "python",
   "pygments_lexer": "ipython3",
   "version": "3.7.3"
  }
 },
 "nbformat": 4,
 "nbformat_minor": 2
}
