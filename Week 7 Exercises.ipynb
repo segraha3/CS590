{
 "cells": [
  {
   "cell_type": "code",
   "execution_count": 1,
   "metadata": {},
   "outputs": [],
   "source": [
    "import random\n",
    "num = random.randint(1,100)"
   ]
  },
  {
   "cell_type": "code",
   "execution_count": 2,
   "metadata": {},
   "outputs": [
    {
     "data": {
      "text/plain": [
       "33"
      ]
     },
     "execution_count": 2,
     "metadata": {},
     "output_type": "execute_result"
    }
   ],
   "source": [
    "num"
   ]
  },
  {
   "cell_type": "code",
   "execution_count": 3,
   "metadata": {},
   "outputs": [
    {
     "name": "stdout",
     "output_type": "stream",
     "text": [
      "WELCOME TO GUESS ME! \n",
      "I'm thinking of a number between 1 and 100 \n",
      "If your guess is more than 10 away from my number, I'll tell you you're COLD \n",
      "If your guess is within 10 of my number, I'll tell you you're WARM \n",
      "If your guess is farther than your most recent guess, I'll say you're getting COLDER \n",
      "If your guess is closer than your most recent guess, I'll say you're getting WARMER \n",
      "LET'S PLAY!\n"
     ]
    }
   ],
   "source": [
    "print(\"\"\"WELCOME TO GUESS ME! \n",
    "I'm thinking of a number between 1 and 100 \n",
    "If your guess is more than 10 away from my number, I'll tell you you're COLD \n",
    "If your guess is within 10 of my number, I'll tell you you're WARM \n",
    "If your guess is farther than your most recent guess, I'll say you're getting COLDER \n",
    "If your guess is closer than your most recent guess, I'll say you're getting WARMER \n",
    "LET'S PLAY!\"\"\")"
   ]
  },
  {
   "cell_type": "code",
   "execution_count": 4,
   "metadata": {},
   "outputs": [],
   "source": [
    "guesses = [0]"
   ]
  },
  {
   "cell_type": "code",
   "execution_count": 5,
   "metadata": {},
   "outputs": [
    {
     "data": {
      "text/plain": [
       "[0]"
      ]
     },
     "execution_count": 5,
     "metadata": {},
     "output_type": "execute_result"
    }
   ],
   "source": [
    "guesses"
   ]
  },
  {
   "cell_type": "code",
   "execution_count": 6,
   "metadata": {},
   "outputs": [
    {
     "name": "stdout",
     "output_type": "stream",
     "text": [
      "Guess a number between 1 and 10050\n",
      "What is your guess? 50\n",
      "COLD!\n",
      "Guess a number between 1 and 10040\n",
      "What is your guess? 40\n",
      "WARMER!\n",
      "Guess a number between 1 and 10044\n",
      "What is your guess? 44\n",
      "COLDER!\n",
      "Guess a number between 1 and 10030\n",
      "What is your guess? 30\n",
      "WARMER!\n",
      "Guess a number between 1 and 10033\n",
      "What is your guess? 33\n",
      "CONGRATULATIONS, YOU GUESSED IT IN ONLY 5 GUESSES\n"
     ]
    }
   ],
   "source": [
    "while True:\n",
    "    userguess = int(input('Guess a number between 1 and 100'))\n",
    "    print('What is your guess?', userguess)\n",
    "    if (userguess > 100) | (userguess < 1):\n",
    "        print('OUT OF BOUNDS. Please try again:')\n",
    "        continue\n",
    "    elif (userguess == num):\n",
    "        print('CONGRATULATIONS, YOU GUESSED IT IN ONLY %s GUESSES'%(len(guesses)))\n",
    "        break\n",
    "    else:\n",
    "        guesses.append(userguess)\n",
    "        if(len(guesses) == 2):\n",
    "            if (abs(guesses[-1]-num) < 10):\n",
    "                print('WARM!')\n",
    "            elif (abs(guesses[-1]-num) > 10):\n",
    "                print('COLD!')\n",
    "        elif (len(guesses) > 2):\n",
    "            if (abs(guesses[-2] - num) < abs(guesses[-1]-num)):\n",
    "                print('COLDER!')\n",
    "            elif (abs(guesses[-2] - num) > abs(guesses[-1]-num)):\n",
    "                print('WARMER!')"
   ]
  },
  {
   "cell_type": "code",
   "execution_count": 7,
   "metadata": {},
   "outputs": [
    {
     "name": "stdout",
     "output_type": "stream",
     "text": [
      "WELCOME TO GUESS ME! \n",
      "I'm thinking of a number between 1 and 100 \n",
      "If your guess is more than 10 away from my number, I'll tell you you're COLD \n",
      "If your guess is within 10 of my number, I'll tell you you're WARM \n",
      "If your guess is farther than your most recent guess, I'll say you're getting COLDER \n",
      "If your guess is closer than your most recent guess, I'll say you're getting WARMER \n",
      "LET'S PLAY!\n",
      "Guess a number between 1 and 10015\n",
      "What is your guess? 15\n",
      "COLD!\n",
      "Guess a number between 1 and 10030\n",
      "What is your guess? 30\n",
      "WARMER!\n",
      "Guess a number between 1 and 10040\n",
      "What is your guess? 40\n",
      "WARMER!\n",
      "Guess a number between 1 and 10050\n",
      "What is your guess? 50\n",
      "WARMER!\n",
      "Guess a number between 1 and 10060\n",
      "What is your guess? 60\n",
      "WARMER!\n",
      "Guess a number between 1 and 10070\n",
      "What is your guess? 70\n",
      "COLDER!\n",
      "Guess a number between 1 and 10065\n",
      "What is your guess? 65\n",
      "WARMER!\n",
      "Guess a number between 1 and 10067\n",
      "What is your guess? 67\n",
      "COLDER!\n",
      "Guess a number between 1 and 10063\n",
      "What is your guess? 63\n",
      "WARMER!\n",
      "Guess a number between 1 and 10062\n",
      "What is your guess? 62\n",
      "CONGRATULATIONS, YOU GUESSED IT IN ONLY 10 GUESSES\n"
     ]
    }
   ],
   "source": [
    "import random\n",
    "num = random.randint(1,100)\n",
    "print(\"\"\"WELCOME TO GUESS ME! \n",
    "I'm thinking of a number between 1 and 100 \n",
    "If your guess is more than 10 away from my number, I'll tell you you're COLD \n",
    "If your guess is within 10 of my number, I'll tell you you're WARM \n",
    "If your guess is farther than your most recent guess, I'll say you're getting COLDER \n",
    "If your guess is closer than your most recent guess, I'll say you're getting WARMER \n",
    "LET'S PLAY!\"\"\")\n",
    "guesses = [0]\n",
    "while True:\n",
    "    userguess = int(input('Guess a number between 1 and 100'))\n",
    "    print('What is your guess?', userguess)\n",
    "    if (userguess > 100) | (userguess < 1):\n",
    "        print('OUT OF BOUNDS. Please try again:')\n",
    "        continue\n",
    "    elif (userguess == num):\n",
    "        print('CONGRATULATIONS, YOU GUESSED IT IN ONLY %s GUESSES'%(len(guesses)))\n",
    "        break\n",
    "    else:\n",
    "        guesses.append(userguess)\n",
    "        if(len(guesses) == 2):\n",
    "            if (abs(guesses[-1]-num) < 10):\n",
    "                print('WARM!')\n",
    "            elif (abs(guesses[-1]-num) > 10):\n",
    "                print('COLD!')\n",
    "        elif (len(guesses) > 2):\n",
    "            if (abs(guesses[-2] - num) < abs(guesses[-1]-num)):\n",
    "                print('COLDER!')\n",
    "            elif (abs(guesses[-2] - num) > abs(guesses[-1]-num)):\n",
    "                print('WARMER!')"
   ]
  },
  {
   "cell_type": "code",
   "execution_count": null,
   "metadata": {},
   "outputs": [],
   "source": []
  }
 ],
 "metadata": {
  "kernelspec": {
   "display_name": "Python 3",
   "language": "python",
   "name": "python3"
  },
  "language_info": {
   "codemirror_mode": {
    "name": "ipython",
    "version": 3
   },
   "file_extension": ".py",
   "mimetype": "text/x-python",
   "name": "python",
   "nbconvert_exporter": "python",
   "pygments_lexer": "ipython3",
   "version": "3.7.3"
  }
 },
 "nbformat": 4,
 "nbformat_minor": 2
}
