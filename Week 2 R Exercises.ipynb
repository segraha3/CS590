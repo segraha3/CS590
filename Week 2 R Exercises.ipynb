{
 "cells": [
  {
   "cell_type": "markdown",
   "metadata": {},
   "source": [
    "What is two to the power of five?"
   ]
  },
  {
   "cell_type": "code",
   "execution_count": 2,
   "metadata": {},
   "outputs": [
    {
     "data": {
      "text/html": [
       "32"
      ],
      "text/latex": [
       "32"
      ],
      "text/markdown": [
       "32"
      ],
      "text/plain": [
       "[1] 32"
      ]
     },
     "metadata": {},
     "output_type": "display_data"
    }
   ],
   "source": [
    "2^5"
   ]
  },
  {
   "cell_type": "markdown",
   "metadata": {},
   "source": [
    "Create a vector called peanut.weight with the following data points:\n",
    "89.4, 78.2, 91.4, 95.2, 105.5"
   ]
  },
  {
   "cell_type": "code",
   "execution_count": 6,
   "metadata": {},
   "outputs": [],
   "source": [
    "peanut.weight <- c(89.4, 78.2, 91.4, 95.2, 105.5)"
   ]
  },
  {
   "cell_type": "markdown",
   "metadata": {},
   "source": [
    "Assign the following names (in order) to the peanut.weight vector:\n",
    "\n",
    "Sullivan, Bailey, Bailey II, Emery, Wynne"
   ]
  },
  {
   "cell_type": "code",
   "execution_count": 17,
   "metadata": {},
   "outputs": [
    {
     "data": {
      "text/html": [
       "<dl class=dl-horizontal>\n",
       "\t<dt>Sullivan</dt>\n",
       "\t\t<dd>89.4</dd>\n",
       "\t<dt>Bailey</dt>\n",
       "\t\t<dd>78.2</dd>\n",
       "\t<dt>Bailey II</dt>\n",
       "\t\t<dd>91.4</dd>\n",
       "\t<dt>Emery</dt>\n",
       "\t\t<dd>95.2</dd>\n",
       "\t<dt>Wynne</dt>\n",
       "\t\t<dd>105.5</dd>\n",
       "</dl>\n"
      ],
      "text/latex": [
       "\\begin{description*}\n",
       "\\item[Sullivan] 89.4\n",
       "\\item[Bailey] 78.2\n",
       "\\item[Bailey II] 91.4\n",
       "\\item[Emery] 95.2\n",
       "\\item[Wynne] 105.5\n",
       "\\end{description*}\n"
      ],
      "text/markdown": [
       "Sullivan\n",
       ":   89.4Bailey\n",
       ":   78.2Bailey II\n",
       ":   91.4Emery\n",
       ":   95.2Wynne\n",
       ":   105.5\n",
       "\n"
      ],
      "text/plain": [
       " Sullivan    Bailey Bailey II     Emery     Wynne \n",
       "     89.4      78.2      91.4      95.2     105.5 "
      ]
     },
     "metadata": {},
     "output_type": "display_data"
    }
   ],
   "source": [
    "names(peanut.weight) <- c('Sullivan', 'Bailey', 'Bailey II','Emery','Wynne')\n",
    "peanut.weight"
   ]
  },
  {
   "cell_type": "markdown",
   "metadata": {},
   "source": [
    "What was the average weight of all peanut lines?"
   ]
  },
  {
   "cell_type": "code",
   "execution_count": 11,
   "metadata": {},
   "outputs": [
    {
     "data": {
      "text/html": [
       "91.94"
      ],
      "text/latex": [
       "91.94"
      ],
      "text/markdown": [
       "91.94"
      ],
      "text/plain": [
       "[1] 91.94"
      ]
     },
     "metadata": {},
     "output_type": "display_data"
    }
   ],
   "source": [
    "mean(peanut.weight)"
   ]
  },
  {
   "cell_type": "markdown",
   "metadata": {},
   "source": [
    "Create a vector called over.90 consisting of logicals that correspond to the peanut lines where the weight was more than 90 grams per 100 seeds"
   ]
  },
  {
   "cell_type": "code",
   "execution_count": 13,
   "metadata": {},
   "outputs": [
    {
     "data": {
      "text/html": [
       "<dl class=dl-horizontal>\n",
       "\t<dt>Bailey II</dt>\n",
       "\t\t<dd>91.4</dd>\n",
       "\t<dt>Emery</dt>\n",
       "\t\t<dd>95.2</dd>\n",
       "\t<dt>Wynne</dt>\n",
       "\t\t<dd>105.5</dd>\n",
       "</dl>\n"
      ],
      "text/latex": [
       "\\begin{description*}\n",
       "\\item[Bailey II] 91.4\n",
       "\\item[Emery] 95.2\n",
       "\\item[Wynne] 105.5\n",
       "\\end{description*}\n"
      ],
      "text/markdown": [
       "Bailey II\n",
       ":   91.4Emery\n",
       ":   95.2Wynne\n",
       ":   105.5\n",
       "\n"
      ],
      "text/plain": [
       "Bailey II     Emery     Wynne \n",
       "     91.4      95.2     105.5 "
      ]
     },
     "metadata": {},
     "output_type": "display_data"
    }
   ],
   "source": [
    "over.90 <- peanut.weight[peanut.weight > 90]\n",
    "over.90"
   ]
  },
  {
   "cell_type": "markdown",
   "metadata": {},
   "source": [
    "Use a built-in R function to find the peanut line with the smallest seed"
   ]
  },
  {
   "cell_type": "code",
   "execution_count": 20,
   "metadata": {},
   "outputs": [
    {
     "data": {
      "text/html": [
       "78.2"
      ],
      "text/latex": [
       "78.2"
      ],
      "text/markdown": [
       "78.2"
      ],
      "text/plain": [
       "[1] 78.2"
      ]
     },
     "metadata": {},
     "output_type": "display_data"
    }
   ],
   "source": [
    "min(peanut.weight)"
   ]
  },
  {
   "cell_type": "markdown",
   "metadata": {},
   "source": [
    "Format the following variables to print the resulting sentence\n",
    "\n",
    "Cultivar = 'Bailey'\n",
    "Weight = '91.4 grams per 100 seeds'"
   ]
  },
  {
   "cell_type": "code",
   "execution_count": 18,
   "metadata": {},
   "outputs": [
    {
     "data": {
      "text/html": [
       "'The cultivar Bailey has a weight of 91.4 grams per 100 seeds'"
      ],
      "text/latex": [
       "'The cultivar Bailey has a weight of 91.4 grams per 100 seeds'"
      ],
      "text/markdown": [
       "'The cultivar Bailey has a weight of 91.4 grams per 100 seeds'"
      ],
      "text/plain": [
       "[1] \"The cultivar Bailey has a weight of 91.4 grams per 100 seeds\""
      ]
     },
     "metadata": {},
     "output_type": "display_data"
    }
   ],
   "source": [
    "Cultivar <- 'Bailey'\n",
    "Weight <- '91.4 grams per 100 seeds'\n",
    "sprintf(\"The cultivar %s has a seed weight of %s\", Cultivar, Weight)"
   ]
  },
  {
   "cell_type": "code",
   "execution_count": null,
   "metadata": {},
   "outputs": [],
   "source": []
  }
 ],
 "metadata": {
  "kernelspec": {
   "display_name": "R",
   "language": "R",
   "name": "ir"
  },
  "language_info": {
   "codemirror_mode": "r",
   "file_extension": ".r",
   "mimetype": "text/x-r-source",
   "name": "R",
   "pygments_lexer": "r",
   "version": "3.6.1"
  }
 },
 "nbformat": 4,
 "nbformat_minor": 2
}
