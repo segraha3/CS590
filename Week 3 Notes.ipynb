{
 "cells": [
  {
   "cell_type": "markdown",
   "metadata": {},
   "source": [
    "R Matricies"
   ]
  },
  {
   "cell_type": "code",
   "execution_count": 2,
   "metadata": {},
   "outputs": [
    {
     "data": {
      "text/html": [
       "<ol class=list-inline>\n",
       "\t<li>1</li>\n",
       "\t<li>2</li>\n",
       "\t<li>3</li>\n",
       "\t<li>4</li>\n",
       "\t<li>5</li>\n",
       "\t<li>6</li>\n",
       "\t<li>7</li>\n",
       "\t<li>8</li>\n",
       "\t<li>9</li>\n",
       "\t<li>10</li>\n",
       "</ol>\n"
      ],
      "text/latex": [
       "\\begin{enumerate*}\n",
       "\\item 1\n",
       "\\item 2\n",
       "\\item 3\n",
       "\\item 4\n",
       "\\item 5\n",
       "\\item 6\n",
       "\\item 7\n",
       "\\item 8\n",
       "\\item 9\n",
       "\\item 10\n",
       "\\end{enumerate*}\n"
      ],
      "text/markdown": [
       "1. 1\n",
       "2. 2\n",
       "3. 3\n",
       "4. 4\n",
       "5. 5\n",
       "6. 6\n",
       "7. 7\n",
       "8. 8\n",
       "9. 9\n",
       "10. 10\n",
       "\n",
       "\n"
      ],
      "text/plain": [
       " [1]  1  2  3  4  5  6  7  8  9 10"
      ]
     },
     "metadata": {},
     "output_type": "display_data"
    }
   ],
   "source": [
    "#Matricies follow one datatype and have similar constraints as vectors\n",
    "#Range of sequential numeric values\n",
    "1:10"
   ]
  },
  {
   "cell_type": "code",
   "execution_count": 3,
   "metadata": {},
   "outputs": [
    {
     "data": {
      "text/html": [
       "<ol class=list-inline>\n",
       "\t<li>1</li>\n",
       "\t<li>2</li>\n",
       "\t<li>3</li>\n",
       "\t<li>4</li>\n",
       "\t<li>5</li>\n",
       "\t<li>6</li>\n",
       "\t<li>7</li>\n",
       "\t<li>8</li>\n",
       "\t<li>9</li>\n",
       "\t<li>10</li>\n",
       "</ol>\n"
      ],
      "text/latex": [
       "\\begin{enumerate*}\n",
       "\\item 1\n",
       "\\item 2\n",
       "\\item 3\n",
       "\\item 4\n",
       "\\item 5\n",
       "\\item 6\n",
       "\\item 7\n",
       "\\item 8\n",
       "\\item 9\n",
       "\\item 10\n",
       "\\end{enumerate*}\n"
      ],
      "text/markdown": [
       "1. 1\n",
       "2. 2\n",
       "3. 3\n",
       "4. 4\n",
       "5. 5\n",
       "6. 6\n",
       "7. 7\n",
       "8. 8\n",
       "9. 9\n",
       "10. 10\n",
       "\n",
       "\n"
      ],
      "text/plain": [
       " [1]  1  2  3  4  5  6  7  8  9 10"
      ]
     },
     "metadata": {},
     "output_type": "display_data"
    }
   ],
   "source": [
    "#Assign sequential numerica range to a vector\n",
    "v <- 1:10\n",
    "v"
   ]
  },
  {
   "cell_type": "code",
   "execution_count": 4,
   "metadata": {},
   "outputs": [
    {
     "data": {
      "text/html": [
       "<table>\n",
       "<tbody>\n",
       "\t<tr><td> 1</td></tr>\n",
       "\t<tr><td> 2</td></tr>\n",
       "\t<tr><td> 3</td></tr>\n",
       "\t<tr><td> 4</td></tr>\n",
       "\t<tr><td> 5</td></tr>\n",
       "\t<tr><td> 6</td></tr>\n",
       "\t<tr><td> 7</td></tr>\n",
       "\t<tr><td> 8</td></tr>\n",
       "\t<tr><td> 9</td></tr>\n",
       "\t<tr><td>10</td></tr>\n",
       "</tbody>\n",
       "</table>\n"
      ],
      "text/latex": [
       "\\begin{tabular}{l}\n",
       "\t  1\\\\\n",
       "\t  2\\\\\n",
       "\t  3\\\\\n",
       "\t  4\\\\\n",
       "\t  5\\\\\n",
       "\t  6\\\\\n",
       "\t  7\\\\\n",
       "\t  8\\\\\n",
       "\t  9\\\\\n",
       "\t 10\\\\\n",
       "\\end{tabular}\n"
      ],
      "text/markdown": [
       "\n",
       "|  1 |\n",
       "|  2 |\n",
       "|  3 |\n",
       "|  4 |\n",
       "|  5 |\n",
       "|  6 |\n",
       "|  7 |\n",
       "|  8 |\n",
       "|  9 |\n",
       "| 10 |\n",
       "\n"
      ],
      "text/plain": [
       "      [,1]\n",
       " [1,]  1  \n",
       " [2,]  2  \n",
       " [3,]  3  \n",
       " [4,]  4  \n",
       " [5,]  5  \n",
       " [6,]  6  \n",
       " [7,]  7  \n",
       " [8,]  8  \n",
       " [9,]  9  \n",
       "[10,] 10  "
      ]
     },
     "metadata": {},
     "output_type": "display_data"
    }
   ],
   "source": [
    "#matrix() functions\n",
    "matrix(v)"
   ]
  },
  {
   "cell_type": "code",
   "execution_count": 5,
   "metadata": {},
   "outputs": [
    {
     "data": {
      "text/html": [
       "<table>\n",
       "<tbody>\n",
       "\t<tr><td>1 </td><td>3 </td><td>5 </td><td>7 </td><td> 9</td></tr>\n",
       "\t<tr><td>2 </td><td>4 </td><td>6 </td><td>8 </td><td>10</td></tr>\n",
       "</tbody>\n",
       "</table>\n"
      ],
      "text/latex": [
       "\\begin{tabular}{lllll}\n",
       "\t 1  & 3  & 5  & 7  &  9\\\\\n",
       "\t 2  & 4  & 6  & 8  & 10\\\\\n",
       "\\end{tabular}\n"
      ],
      "text/markdown": [
       "\n",
       "| 1  | 3  | 5  | 7  |  9 |\n",
       "| 2  | 4  | 6  | 8  | 10 |\n",
       "\n"
      ],
      "text/plain": [
       "     [,1] [,2] [,3] [,4] [,5]\n",
       "[1,] 1    3    5    7     9  \n",
       "[2,] 2    4    6    8    10  "
      ]
     },
     "metadata": {},
     "output_type": "display_data"
    }
   ],
   "source": [
    "matrix(v, nrow=2)"
   ]
  },
  {
   "cell_type": "code",
   "execution_count": 7,
   "metadata": {},
   "outputs": [
    {
     "data": {
      "text/html": [
       "<table>\n",
       "<tbody>\n",
       "\t<tr><td>1 </td><td>2 </td><td>3 </td><td>4 </td><td> 5</td></tr>\n",
       "\t<tr><td>6 </td><td>7 </td><td>8 </td><td>9 </td><td>10</td></tr>\n",
       "</tbody>\n",
       "</table>\n"
      ],
      "text/latex": [
       "\\begin{tabular}{lllll}\n",
       "\t 1  & 2  & 3  & 4  &  5\\\\\n",
       "\t 6  & 7  & 8  & 9  & 10\\\\\n",
       "\\end{tabular}\n"
      ],
      "text/markdown": [
       "\n",
       "| 1  | 2  | 3  | 4  |  5 |\n",
       "| 6  | 7  | 8  | 9  | 10 |\n",
       "\n"
      ],
      "text/plain": [
       "     [,1] [,2] [,3] [,4] [,5]\n",
       "[1,] 1    2    3    4     5  \n",
       "[2,] 6    7    8    9    10  "
      ]
     },
     "metadata": {},
     "output_type": "display_data"
    }
   ],
   "source": [
    "matrix(v, byrow=T, nrow=2)"
   ]
  },
  {
   "cell_type": "code",
   "execution_count": 8,
   "metadata": {},
   "outputs": [
    {
     "data": {
      "text/html": [
       "<table>\n",
       "<tbody>\n",
       "\t<tr><td> 1</td><td> 2</td><td> 3</td></tr>\n",
       "\t<tr><td> 4</td><td> 5</td><td> 6</td></tr>\n",
       "\t<tr><td> 7</td><td> 8</td><td> 9</td></tr>\n",
       "\t<tr><td>10</td><td>11</td><td>12</td></tr>\n",
       "</tbody>\n",
       "</table>\n"
      ],
      "text/latex": [
       "\\begin{tabular}{lll}\n",
       "\t  1 &  2 &  3\\\\\n",
       "\t  4 &  5 &  6\\\\\n",
       "\t  7 &  8 &  9\\\\\n",
       "\t 10 & 11 & 12\\\\\n",
       "\\end{tabular}\n"
      ],
      "text/markdown": [
       "\n",
       "|  1 |  2 |  3 |\n",
       "|  4 |  5 |  6 |\n",
       "|  7 |  8 |  9 |\n",
       "| 10 | 11 | 12 |\n",
       "\n"
      ],
      "text/plain": [
       "     [,1] [,2] [,3]\n",
       "[1,]  1    2    3  \n",
       "[2,]  4    5    6  \n",
       "[3,]  7    8    9  \n",
       "[4,] 10   11   12  "
      ]
     },
     "metadata": {},
     "output_type": "display_data"
    }
   ],
   "source": [
    "matrix(1:12, byrow = T, nrow = 4)"
   ]
  },
  {
   "cell_type": "code",
   "execution_count": 11,
   "metadata": {},
   "outputs": [],
   "source": [
    "Lewiston <- c(12,14,18,13,17)\n",
    "Rocky.Mount <- c(11,19,21,15,18)\n",
    "Whiteville <- c(14,17,23,11,9)"
   ]
  },
  {
   "cell_type": "code",
   "execution_count": 12,
   "metadata": {},
   "outputs": [],
   "source": [
    "weights <- c(Lewiston, Rocky.Mount, Whiteville)"
   ]
  },
  {
   "cell_type": "code",
   "execution_count": 13,
   "metadata": {},
   "outputs": [
    {
     "data": {
      "text/html": [
       "<ol class=list-inline>\n",
       "\t<li>12</li>\n",
       "\t<li>14</li>\n",
       "\t<li>18</li>\n",
       "\t<li>13</li>\n",
       "\t<li>17</li>\n",
       "\t<li>11</li>\n",
       "\t<li>19</li>\n",
       "\t<li>21</li>\n",
       "\t<li>15</li>\n",
       "\t<li>18</li>\n",
       "\t<li>14</li>\n",
       "\t<li>17</li>\n",
       "\t<li>23</li>\n",
       "\t<li>11</li>\n",
       "\t<li>9</li>\n",
       "</ol>\n"
      ],
      "text/latex": [
       "\\begin{enumerate*}\n",
       "\\item 12\n",
       "\\item 14\n",
       "\\item 18\n",
       "\\item 13\n",
       "\\item 17\n",
       "\\item 11\n",
       "\\item 19\n",
       "\\item 21\n",
       "\\item 15\n",
       "\\item 18\n",
       "\\item 14\n",
       "\\item 17\n",
       "\\item 23\n",
       "\\item 11\n",
       "\\item 9\n",
       "\\end{enumerate*}\n"
      ],
      "text/markdown": [
       "1. 12\n",
       "2. 14\n",
       "3. 18\n",
       "4. 13\n",
       "5. 17\n",
       "6. 11\n",
       "7. 19\n",
       "8. 21\n",
       "9. 15\n",
       "10. 18\n",
       "11. 14\n",
       "12. 17\n",
       "13. 23\n",
       "14. 11\n",
       "15. 9\n",
       "\n",
       "\n"
      ],
      "text/plain": [
       " [1] 12 14 18 13 17 11 19 21 15 18 14 17 23 11  9"
      ]
     },
     "metadata": {},
     "output_type": "display_data"
    }
   ],
   "source": [
    "weights"
   ]
  },
  {
   "cell_type": "code",
   "execution_count": 14,
   "metadata": {},
   "outputs": [],
   "source": [
    "weights.matrix <- matrix(weights, byrow = T, nrow = 3)"
   ]
  },
  {
   "cell_type": "code",
   "execution_count": 15,
   "metadata": {},
   "outputs": [
    {
     "data": {
      "text/html": [
       "<table>\n",
       "<tbody>\n",
       "\t<tr><td>12</td><td>14</td><td>18</td><td>13</td><td>17</td></tr>\n",
       "\t<tr><td>11</td><td>19</td><td>21</td><td>15</td><td>18</td></tr>\n",
       "\t<tr><td>14</td><td>17</td><td>23</td><td>11</td><td> 9</td></tr>\n",
       "</tbody>\n",
       "</table>\n"
      ],
      "text/latex": [
       "\\begin{tabular}{lllll}\n",
       "\t 12 & 14 & 18 & 13 & 17\\\\\n",
       "\t 11 & 19 & 21 & 15 & 18\\\\\n",
       "\t 14 & 17 & 23 & 11 &  9\\\\\n",
       "\\end{tabular}\n"
      ],
      "text/markdown": [
       "\n",
       "| 12 | 14 | 18 | 13 | 17 |\n",
       "| 11 | 19 | 21 | 15 | 18 |\n",
       "| 14 | 17 | 23 | 11 |  9 |\n",
       "\n"
      ],
      "text/plain": [
       "     [,1] [,2] [,3] [,4] [,5]\n",
       "[1,] 12   14   18   13   17  \n",
       "[2,] 11   19   21   15   18  \n",
       "[3,] 14   17   23   11    9  "
      ]
     },
     "metadata": {},
     "output_type": "display_data"
    }
   ],
   "source": [
    "weights.matrix"
   ]
  },
  {
   "cell_type": "code",
   "execution_count": 18,
   "metadata": {},
   "outputs": [],
   "source": [
    "#name row = rownames(), columns = colnames()\n",
    "days <- c('M','T','W','Th','F')\n",
    "loc.names <- c(\"Lewiston\", \"RockyMount\", \"Whiteille\")"
   ]
  },
  {
   "cell_type": "code",
   "execution_count": 19,
   "metadata": {},
   "outputs": [],
   "source": [
    "colnames(weights.matrix) <- days"
   ]
  },
  {
   "cell_type": "code",
   "execution_count": 22,
   "metadata": {},
   "outputs": [],
   "source": [
    "rownames(weights.matrix) <- loc.names"
   ]
  },
  {
   "cell_type": "code",
   "execution_count": 23,
   "metadata": {},
   "outputs": [
    {
     "data": {
      "text/html": [
       "<table>\n",
       "<thead><tr><th></th><th scope=col>M</th><th scope=col>T</th><th scope=col>W</th><th scope=col>Th</th><th scope=col>F</th></tr></thead>\n",
       "<tbody>\n",
       "\t<tr><th scope=row>Lewiston</th><td>12</td><td>14</td><td>18</td><td>13</td><td>17</td></tr>\n",
       "\t<tr><th scope=row>RockyMount</th><td>11</td><td>19</td><td>21</td><td>15</td><td>18</td></tr>\n",
       "\t<tr><th scope=row>Whiteille</th><td>14</td><td>17</td><td>23</td><td>11</td><td> 9</td></tr>\n",
       "</tbody>\n",
       "</table>\n"
      ],
      "text/latex": [
       "\\begin{tabular}{r|lllll}\n",
       "  & M & T & W & Th & F\\\\\n",
       "\\hline\n",
       "\tLewiston & 12 & 14 & 18 & 13 & 17\\\\\n",
       "\tRockyMount & 11 & 19 & 21 & 15 & 18\\\\\n",
       "\tWhiteille & 14 & 17 & 23 & 11 &  9\\\\\n",
       "\\end{tabular}\n"
      ],
      "text/markdown": [
       "\n",
       "| <!--/--> | M | T | W | Th | F |\n",
       "|---|---|---|---|---|---|\n",
       "| Lewiston | 12 | 14 | 18 | 13 | 17 |\n",
       "| RockyMount | 11 | 19 | 21 | 15 | 18 |\n",
       "| Whiteille | 14 | 17 | 23 | 11 |  9 |\n",
       "\n"
      ],
      "text/plain": [
       "           M  T  W  Th F \n",
       "Lewiston   12 14 18 13 17\n",
       "RockyMount 11 19 21 15 18\n",
       "Whiteille  14 17 23 11  9"
      ]
     },
     "metadata": {},
     "output_type": "display_data"
    }
   ],
   "source": [
    "weights.matrix"
   ]
  },
  {
   "cell_type": "code",
   "execution_count": 24,
   "metadata": {},
   "outputs": [],
   "source": [
    "#a matrix with 5 rows and 10 columns\n",
    "mat <-matrix(1:50, byrow = T, nrow=5)"
   ]
  },
  {
   "cell_type": "code",
   "execution_count": 26,
   "metadata": {},
   "outputs": [
    {
     "data": {
      "text/html": [
       "<table>\n",
       "<tbody>\n",
       "\t<tr><td> 1</td><td> 2</td><td> 3</td><td> 4</td><td> 5</td><td> 6</td><td> 7</td><td> 8</td><td> 9</td><td>10</td></tr>\n",
       "\t<tr><td>11</td><td>12</td><td>13</td><td>14</td><td>15</td><td>16</td><td>17</td><td>18</td><td>19</td><td>20</td></tr>\n",
       "\t<tr><td>21</td><td>22</td><td>23</td><td>24</td><td>25</td><td>26</td><td>27</td><td>28</td><td>29</td><td>30</td></tr>\n",
       "\t<tr><td>31</td><td>32</td><td>33</td><td>34</td><td>35</td><td>36</td><td>37</td><td>38</td><td>39</td><td>40</td></tr>\n",
       "\t<tr><td>41</td><td>42</td><td>43</td><td>44</td><td>45</td><td>46</td><td>47</td><td>48</td><td>49</td><td>50</td></tr>\n",
       "</tbody>\n",
       "</table>\n"
      ],
      "text/latex": [
       "\\begin{tabular}{llllllllll}\n",
       "\t  1 &  2 &  3 &  4 &  5 &  6 &  7 &  8 &  9 & 10\\\\\n",
       "\t 11 & 12 & 13 & 14 & 15 & 16 & 17 & 18 & 19 & 20\\\\\n",
       "\t 21 & 22 & 23 & 24 & 25 & 26 & 27 & 28 & 29 & 30\\\\\n",
       "\t 31 & 32 & 33 & 34 & 35 & 36 & 37 & 38 & 39 & 40\\\\\n",
       "\t 41 & 42 & 43 & 44 & 45 & 46 & 47 & 48 & 49 & 50\\\\\n",
       "\\end{tabular}\n"
      ],
      "text/markdown": [
       "\n",
       "|  1 |  2 |  3 |  4 |  5 |  6 |  7 |  8 |  9 | 10 |\n",
       "| 11 | 12 | 13 | 14 | 15 | 16 | 17 | 18 | 19 | 20 |\n",
       "| 21 | 22 | 23 | 24 | 25 | 26 | 27 | 28 | 29 | 30 |\n",
       "| 31 | 32 | 33 | 34 | 35 | 36 | 37 | 38 | 39 | 40 |\n",
       "| 41 | 42 | 43 | 44 | 45 | 46 | 47 | 48 | 49 | 50 |\n",
       "\n"
      ],
      "text/plain": [
       "     [,1] [,2] [,3] [,4] [,5] [,6] [,7] [,8] [,9] [,10]\n",
       "[1,]  1    2    3    4    5    6    7    8    9   10   \n",
       "[2,] 11   12   13   14   15   16   17   18   19   20   \n",
       "[3,] 21   22   23   24   25   26   27   28   29   30   \n",
       "[4,] 31   32   33   34   35   36   37   38   39   40   \n",
       "[5,] 41   42   43   44   45   46   47   48   49   50   "
      ]
     },
     "metadata": {},
     "output_type": "display_data"
    }
   ],
   "source": [
    "mat"
   ]
  },
  {
   "cell_type": "code",
   "execution_count": 27,
   "metadata": {},
   "outputs": [
    {
     "data": {
      "text/html": [
       "<table>\n",
       "<tbody>\n",
       "\t<tr><td> 2 </td><td> 4 </td><td> 6 </td><td> 8 </td><td>10 </td><td>12 </td><td>14 </td><td>16 </td><td>18 </td><td> 20</td></tr>\n",
       "\t<tr><td>22 </td><td>24 </td><td>26 </td><td>28 </td><td>30 </td><td>32 </td><td>34 </td><td>36 </td><td>38 </td><td> 40</td></tr>\n",
       "\t<tr><td>42 </td><td>44 </td><td>46 </td><td>48 </td><td>50 </td><td>52 </td><td>54 </td><td>56 </td><td>58 </td><td> 60</td></tr>\n",
       "\t<tr><td>62 </td><td>64 </td><td>66 </td><td>68 </td><td>70 </td><td>72 </td><td>74 </td><td>76 </td><td>78 </td><td> 80</td></tr>\n",
       "\t<tr><td>82 </td><td>84 </td><td>86 </td><td>88 </td><td>90 </td><td>92 </td><td>94 </td><td>96 </td><td>98 </td><td>100</td></tr>\n",
       "</tbody>\n",
       "</table>\n"
      ],
      "text/latex": [
       "\\begin{tabular}{llllllllll}\n",
       "\t  2  &  4  &  6  &  8  & 10  & 12  & 14  & 16  & 18  &  20\\\\\n",
       "\t 22  & 24  & 26  & 28  & 30  & 32  & 34  & 36  & 38  &  40\\\\\n",
       "\t 42  & 44  & 46  & 48  & 50  & 52  & 54  & 56  & 58  &  60\\\\\n",
       "\t 62  & 64  & 66  & 68  & 70  & 72  & 74  & 76  & 78  &  80\\\\\n",
       "\t 82  & 84  & 86  & 88  & 90  & 92  & 94  & 96  & 98  & 100\\\\\n",
       "\\end{tabular}\n"
      ],
      "text/markdown": [
       "\n",
       "|  2  |  4  |  6  |  8  | 10  | 12  | 14  | 16  | 18  |  20 |\n",
       "| 22  | 24  | 26  | 28  | 30  | 32  | 34  | 36  | 38  |  40 |\n",
       "| 42  | 44  | 46  | 48  | 50  | 52  | 54  | 56  | 58  |  60 |\n",
       "| 62  | 64  | 66  | 68  | 70  | 72  | 74  | 76  | 78  |  80 |\n",
       "| 82  | 84  | 86  | 88  | 90  | 92  | 94  | 96  | 98  | 100 |\n",
       "\n"
      ],
      "text/plain": [
       "     [,1] [,2] [,3] [,4] [,5] [,6] [,7] [,8] [,9] [,10]\n",
       "[1,]  2    4    6    8   10   12   14   16   18    20  \n",
       "[2,] 22   24   26   28   30   32   34   36   38    40  \n",
       "[3,] 42   44   46   48   50   52   54   56   58    60  \n",
       "[4,] 62   64   66   68   70   72   74   76   78    80  \n",
       "[5,] 82   84   86   88   90   92   94   96   98   100  "
      ]
     },
     "metadata": {},
     "output_type": "display_data"
    }
   ],
   "source": [
    "2*mat"
   ]
  },
  {
   "cell_type": "code",
   "execution_count": 28,
   "metadata": {},
   "outputs": [
    {
     "data": {
      "text/html": [
       "<table>\n",
       "<tbody>\n",
       "\t<tr><td> 0.5</td><td> 1  </td><td> 1.5</td><td> 2  </td><td> 2.5</td><td> 3  </td><td> 3.5</td><td> 4  </td><td> 4.5</td><td> 5  </td></tr>\n",
       "\t<tr><td> 5.5</td><td> 6  </td><td> 6.5</td><td> 7  </td><td> 7.5</td><td> 8  </td><td> 8.5</td><td> 9  </td><td> 9.5</td><td>10  </td></tr>\n",
       "\t<tr><td>10.5</td><td>11  </td><td>11.5</td><td>12  </td><td>12.5</td><td>13  </td><td>13.5</td><td>14  </td><td>14.5</td><td>15  </td></tr>\n",
       "\t<tr><td>15.5</td><td>16  </td><td>16.5</td><td>17  </td><td>17.5</td><td>18  </td><td>18.5</td><td>19  </td><td>19.5</td><td>20  </td></tr>\n",
       "\t<tr><td>20.5</td><td>21  </td><td>21.5</td><td>22  </td><td>22.5</td><td>23  </td><td>23.5</td><td>24  </td><td>24.5</td><td>25  </td></tr>\n",
       "</tbody>\n",
       "</table>\n"
      ],
      "text/latex": [
       "\\begin{tabular}{llllllllll}\n",
       "\t  0.5 &  1   &  1.5 &  2   &  2.5 &  3   &  3.5 &  4   &  4.5 &  5  \\\\\n",
       "\t  5.5 &  6   &  6.5 &  7   &  7.5 &  8   &  8.5 &  9   &  9.5 & 10  \\\\\n",
       "\t 10.5 & 11   & 11.5 & 12   & 12.5 & 13   & 13.5 & 14   & 14.5 & 15  \\\\\n",
       "\t 15.5 & 16   & 16.5 & 17   & 17.5 & 18   & 18.5 & 19   & 19.5 & 20  \\\\\n",
       "\t 20.5 & 21   & 21.5 & 22   & 22.5 & 23   & 23.5 & 24   & 24.5 & 25  \\\\\n",
       "\\end{tabular}\n"
      ],
      "text/markdown": [
       "\n",
       "|  0.5 |  1   |  1.5 |  2   |  2.5 |  3   |  3.5 |  4   |  4.5 |  5   |\n",
       "|  5.5 |  6   |  6.5 |  7   |  7.5 |  8   |  8.5 |  9   |  9.5 | 10   |\n",
       "| 10.5 | 11   | 11.5 | 12   | 12.5 | 13   | 13.5 | 14   | 14.5 | 15   |\n",
       "| 15.5 | 16   | 16.5 | 17   | 17.5 | 18   | 18.5 | 19   | 19.5 | 20   |\n",
       "| 20.5 | 21   | 21.5 | 22   | 22.5 | 23   | 23.5 | 24   | 24.5 | 25   |\n",
       "\n"
      ],
      "text/plain": [
       "     [,1] [,2] [,3] [,4] [,5] [,6] [,7] [,8] [,9] [,10]\n",
       "[1,]  0.5  1    1.5  2    2.5  3    3.5  4    4.5  5   \n",
       "[2,]  5.5  6    6.5  7    7.5  8    8.5  9    9.5 10   \n",
       "[3,] 10.5 11   11.5 12   12.5 13   13.5 14   14.5 15   \n",
       "[4,] 15.5 16   16.5 17   17.5 18   18.5 19   19.5 20   \n",
       "[5,] 20.5 21   21.5 22   22.5 23   23.5 24   24.5 25   "
      ]
     },
     "metadata": {},
     "output_type": "display_data"
    }
   ],
   "source": [
    "mat/2"
   ]
  },
  {
   "cell_type": "code",
   "execution_count": 29,
   "metadata": {},
   "outputs": [
    {
     "data": {
      "text/html": [
       "<table>\n",
       "<tbody>\n",
       "\t<tr><td>   1</td><td>   4</td><td>   9</td><td>  16</td><td>  25</td><td>  36</td><td>  49</td><td>  64</td><td>  81</td><td> 100</td></tr>\n",
       "\t<tr><td> 121</td><td> 144</td><td> 169</td><td> 196</td><td> 225</td><td> 256</td><td> 289</td><td> 324</td><td> 361</td><td> 400</td></tr>\n",
       "\t<tr><td> 441</td><td> 484</td><td> 529</td><td> 576</td><td> 625</td><td> 676</td><td> 729</td><td> 784</td><td> 841</td><td> 900</td></tr>\n",
       "\t<tr><td> 961</td><td>1024</td><td>1089</td><td>1156</td><td>1225</td><td>1296</td><td>1369</td><td>1444</td><td>1521</td><td>1600</td></tr>\n",
       "\t<tr><td>1681</td><td>1764</td><td>1849</td><td>1936</td><td>2025</td><td>2116</td><td>2209</td><td>2304</td><td>2401</td><td>2500</td></tr>\n",
       "</tbody>\n",
       "</table>\n"
      ],
      "text/latex": [
       "\\begin{tabular}{llllllllll}\n",
       "\t    1 &    4 &    9 &   16 &   25 &   36 &   49 &   64 &   81 &  100\\\\\n",
       "\t  121 &  144 &  169 &  196 &  225 &  256 &  289 &  324 &  361 &  400\\\\\n",
       "\t  441 &  484 &  529 &  576 &  625 &  676 &  729 &  784 &  841 &  900\\\\\n",
       "\t  961 & 1024 & 1089 & 1156 & 1225 & 1296 & 1369 & 1444 & 1521 & 1600\\\\\n",
       "\t 1681 & 1764 & 1849 & 1936 & 2025 & 2116 & 2209 & 2304 & 2401 & 2500\\\\\n",
       "\\end{tabular}\n"
      ],
      "text/markdown": [
       "\n",
       "|    1 |    4 |    9 |   16 |   25 |   36 |   49 |   64 |   81 |  100 |\n",
       "|  121 |  144 |  169 |  196 |  225 |  256 |  289 |  324 |  361 |  400 |\n",
       "|  441 |  484 |  529 |  576 |  625 |  676 |  729 |  784 |  841 |  900 |\n",
       "|  961 | 1024 | 1089 | 1156 | 1225 | 1296 | 1369 | 1444 | 1521 | 1600 |\n",
       "| 1681 | 1764 | 1849 | 1936 | 2025 | 2116 | 2209 | 2304 | 2401 | 2500 |\n",
       "\n"
      ],
      "text/plain": [
       "     [,1] [,2] [,3] [,4] [,5] [,6] [,7] [,8] [,9] [,10]\n",
       "[1,]    1    4    9   16   25   36   49   64   81  100 \n",
       "[2,]  121  144  169  196  225  256  289  324  361  400 \n",
       "[3,]  441  484  529  576  625  676  729  784  841  900 \n",
       "[4,]  961 1024 1089 1156 1225 1296 1369 1444 1521 1600 \n",
       "[5,] 1681 1764 1849 1936 2025 2116 2209 2304 2401 2500 "
      ]
     },
     "metadata": {},
     "output_type": "display_data"
    }
   ],
   "source": [
    "#the comparison operators (==, !=, >,<,>=,<=)\n",
    "mat ^2"
   ]
  },
  {
   "cell_type": "code",
   "execution_count": 30,
   "metadata": {},
   "outputs": [
    {
     "data": {
      "text/html": [
       "<table>\n",
       "<tbody>\n",
       "\t<tr><td>FALSE</td><td>FALSE</td><td>FALSE</td><td>FALSE</td><td>FALSE</td><td>FALSE</td><td>FALSE</td><td>FALSE</td><td>FALSE</td><td>FALSE</td></tr>\n",
       "\t<tr><td>FALSE</td><td>FALSE</td><td>FALSE</td><td>FALSE</td><td>FALSE</td><td> TRUE</td><td> TRUE</td><td> TRUE</td><td> TRUE</td><td> TRUE</td></tr>\n",
       "\t<tr><td> TRUE</td><td> TRUE</td><td> TRUE</td><td> TRUE</td><td> TRUE</td><td> TRUE</td><td> TRUE</td><td> TRUE</td><td> TRUE</td><td> TRUE</td></tr>\n",
       "\t<tr><td> TRUE</td><td> TRUE</td><td> TRUE</td><td> TRUE</td><td> TRUE</td><td> TRUE</td><td> TRUE</td><td> TRUE</td><td> TRUE</td><td> TRUE</td></tr>\n",
       "\t<tr><td> TRUE</td><td> TRUE</td><td> TRUE</td><td> TRUE</td><td> TRUE</td><td> TRUE</td><td> TRUE</td><td> TRUE</td><td> TRUE</td><td> TRUE</td></tr>\n",
       "</tbody>\n",
       "</table>\n"
      ],
      "text/latex": [
       "\\begin{tabular}{llllllllll}\n",
       "\t FALSE & FALSE & FALSE & FALSE & FALSE & FALSE & FALSE & FALSE & FALSE & FALSE\\\\\n",
       "\t FALSE & FALSE & FALSE & FALSE & FALSE &  TRUE &  TRUE &  TRUE &  TRUE &  TRUE\\\\\n",
       "\t  TRUE &  TRUE &  TRUE &  TRUE &  TRUE &  TRUE &  TRUE &  TRUE &  TRUE &  TRUE\\\\\n",
       "\t  TRUE &  TRUE &  TRUE &  TRUE &  TRUE &  TRUE &  TRUE &  TRUE &  TRUE &  TRUE\\\\\n",
       "\t  TRUE &  TRUE &  TRUE &  TRUE &  TRUE &  TRUE &  TRUE &  TRUE &  TRUE &  TRUE\\\\\n",
       "\\end{tabular}\n"
      ],
      "text/markdown": [
       "\n",
       "| FALSE | FALSE | FALSE | FALSE | FALSE | FALSE | FALSE | FALSE | FALSE | FALSE |\n",
       "| FALSE | FALSE | FALSE | FALSE | FALSE |  TRUE |  TRUE |  TRUE |  TRUE |  TRUE |\n",
       "|  TRUE |  TRUE |  TRUE |  TRUE |  TRUE |  TRUE |  TRUE |  TRUE |  TRUE |  TRUE |\n",
       "|  TRUE |  TRUE |  TRUE |  TRUE |  TRUE |  TRUE |  TRUE |  TRUE |  TRUE |  TRUE |\n",
       "|  TRUE |  TRUE |  TRUE |  TRUE |  TRUE |  TRUE |  TRUE |  TRUE |  TRUE |  TRUE |\n",
       "\n"
      ],
      "text/plain": [
       "     [,1]  [,2]  [,3]  [,4]  [,5]  [,6]  [,7]  [,8]  [,9]  [,10]\n",
       "[1,] FALSE FALSE FALSE FALSE FALSE FALSE FALSE FALSE FALSE FALSE\n",
       "[2,] FALSE FALSE FALSE FALSE FALSE  TRUE  TRUE  TRUE  TRUE  TRUE\n",
       "[3,]  TRUE  TRUE  TRUE  TRUE  TRUE  TRUE  TRUE  TRUE  TRUE  TRUE\n",
       "[4,]  TRUE  TRUE  TRUE  TRUE  TRUE  TRUE  TRUE  TRUE  TRUE  TRUE\n",
       "[5,]  TRUE  TRUE  TRUE  TRUE  TRUE  TRUE  TRUE  TRUE  TRUE  TRUE"
      ]
     },
     "metadata": {},
     "output_type": "display_data"
    }
   ],
   "source": [
    "mat > 15"
   ]
  },
  {
   "cell_type": "code",
   "execution_count": 31,
   "metadata": {},
   "outputs": [
    {
     "data": {
      "text/html": [
       "<table>\n",
       "<tbody>\n",
       "\t<tr><td> 2 </td><td> 4 </td><td> 6 </td><td> 8 </td><td>10 </td><td>12 </td><td>14 </td><td>16 </td><td>18 </td><td> 20</td></tr>\n",
       "\t<tr><td>22 </td><td>24 </td><td>26 </td><td>28 </td><td>30 </td><td>32 </td><td>34 </td><td>36 </td><td>38 </td><td> 40</td></tr>\n",
       "\t<tr><td>42 </td><td>44 </td><td>46 </td><td>48 </td><td>50 </td><td>52 </td><td>54 </td><td>56 </td><td>58 </td><td> 60</td></tr>\n",
       "\t<tr><td>62 </td><td>64 </td><td>66 </td><td>68 </td><td>70 </td><td>72 </td><td>74 </td><td>76 </td><td>78 </td><td> 80</td></tr>\n",
       "\t<tr><td>82 </td><td>84 </td><td>86 </td><td>88 </td><td>90 </td><td>92 </td><td>94 </td><td>96 </td><td>98 </td><td>100</td></tr>\n",
       "</tbody>\n",
       "</table>\n"
      ],
      "text/latex": [
       "\\begin{tabular}{llllllllll}\n",
       "\t  2  &  4  &  6  &  8  & 10  & 12  & 14  & 16  & 18  &  20\\\\\n",
       "\t 22  & 24  & 26  & 28  & 30  & 32  & 34  & 36  & 38  &  40\\\\\n",
       "\t 42  & 44  & 46  & 48  & 50  & 52  & 54  & 56  & 58  &  60\\\\\n",
       "\t 62  & 64  & 66  & 68  & 70  & 72  & 74  & 76  & 78  &  80\\\\\n",
       "\t 82  & 84  & 86  & 88  & 90  & 92  & 94  & 96  & 98  & 100\\\\\n",
       "\\end{tabular}\n"
      ],
      "text/markdown": [
       "\n",
       "|  2  |  4  |  6  |  8  | 10  | 12  | 14  | 16  | 18  |  20 |\n",
       "| 22  | 24  | 26  | 28  | 30  | 32  | 34  | 36  | 38  |  40 |\n",
       "| 42  | 44  | 46  | 48  | 50  | 52  | 54  | 56  | 58  |  60 |\n",
       "| 62  | 64  | 66  | 68  | 70  | 72  | 74  | 76  | 78  |  80 |\n",
       "| 82  | 84  | 86  | 88  | 90  | 92  | 94  | 96  | 98  | 100 |\n",
       "\n"
      ],
      "text/plain": [
       "     [,1] [,2] [,3] [,4] [,5] [,6] [,7] [,8] [,9] [,10]\n",
       "[1,]  2    4    6    8   10   12   14   16   18    20  \n",
       "[2,] 22   24   26   28   30   32   34   36   38    40  \n",
       "[3,] 42   44   46   48   50   52   54   56   58    60  \n",
       "[4,] 62   64   66   68   70   72   74   76   78    80  \n",
       "[5,] 82   84   86   88   90   92   94   96   98   100  "
      ]
     },
     "metadata": {},
     "output_type": "display_data"
    }
   ],
   "source": [
    "mat +mat"
   ]
  },
  {
   "cell_type": "code",
   "execution_count": 32,
   "metadata": {},
   "outputs": [
    {
     "data": {
      "text/html": [
       "<table>\n",
       "<tbody>\n",
       "\t<tr><td>1</td><td>1</td><td>1</td><td>1</td><td>1</td><td>1</td><td>1</td><td>1</td><td>1</td><td>1</td></tr>\n",
       "\t<tr><td>1</td><td>1</td><td>1</td><td>1</td><td>1</td><td>1</td><td>1</td><td>1</td><td>1</td><td>1</td></tr>\n",
       "\t<tr><td>1</td><td>1</td><td>1</td><td>1</td><td>1</td><td>1</td><td>1</td><td>1</td><td>1</td><td>1</td></tr>\n",
       "\t<tr><td>1</td><td>1</td><td>1</td><td>1</td><td>1</td><td>1</td><td>1</td><td>1</td><td>1</td><td>1</td></tr>\n",
       "\t<tr><td>1</td><td>1</td><td>1</td><td>1</td><td>1</td><td>1</td><td>1</td><td>1</td><td>1</td><td>1</td></tr>\n",
       "</tbody>\n",
       "</table>\n"
      ],
      "text/latex": [
       "\\begin{tabular}{llllllllll}\n",
       "\t 1 & 1 & 1 & 1 & 1 & 1 & 1 & 1 & 1 & 1\\\\\n",
       "\t 1 & 1 & 1 & 1 & 1 & 1 & 1 & 1 & 1 & 1\\\\\n",
       "\t 1 & 1 & 1 & 1 & 1 & 1 & 1 & 1 & 1 & 1\\\\\n",
       "\t 1 & 1 & 1 & 1 & 1 & 1 & 1 & 1 & 1 & 1\\\\\n",
       "\t 1 & 1 & 1 & 1 & 1 & 1 & 1 & 1 & 1 & 1\\\\\n",
       "\\end{tabular}\n"
      ],
      "text/markdown": [
       "\n",
       "| 1 | 1 | 1 | 1 | 1 | 1 | 1 | 1 | 1 | 1 |\n",
       "| 1 | 1 | 1 | 1 | 1 | 1 | 1 | 1 | 1 | 1 |\n",
       "| 1 | 1 | 1 | 1 | 1 | 1 | 1 | 1 | 1 | 1 |\n",
       "| 1 | 1 | 1 | 1 | 1 | 1 | 1 | 1 | 1 | 1 |\n",
       "| 1 | 1 | 1 | 1 | 1 | 1 | 1 | 1 | 1 | 1 |\n",
       "\n"
      ],
      "text/plain": [
       "     [,1] [,2] [,3] [,4] [,5] [,6] [,7] [,8] [,9] [,10]\n",
       "[1,] 1    1    1    1    1    1    1    1    1    1    \n",
       "[2,] 1    1    1    1    1    1    1    1    1    1    \n",
       "[3,] 1    1    1    1    1    1    1    1    1    1    \n",
       "[4,] 1    1    1    1    1    1    1    1    1    1    \n",
       "[5,] 1    1    1    1    1    1    1    1    1    1    "
      ]
     },
     "metadata": {},
     "output_type": "display_data"
    }
   ],
   "source": [
    "mat/mat"
   ]
  },
  {
   "cell_type": "code",
   "execution_count": 33,
   "metadata": {},
   "outputs": [
    {
     "data": {
      "text/html": [
       "<table>\n",
       "<tbody>\n",
       "\t<tr><td>1.000000e+00</td><td>4.000000e+00</td><td>2.700000e+01</td><td>2.560000e+02</td><td>3.125000e+03</td><td>4.665600e+04</td><td>8.235430e+05</td><td>1.677722e+07</td><td>3.874205e+08</td><td>1.000000e+10</td></tr>\n",
       "\t<tr><td>2.853117e+11</td><td>8.916100e+12</td><td>3.028751e+14</td><td>1.111201e+16</td><td>4.378939e+17</td><td>1.844674e+19</td><td>8.272403e+20</td><td>3.934641e+22</td><td>1.978420e+24</td><td>1.048576e+26</td></tr>\n",
       "\t<tr><td>5.842587e+27</td><td>3.414279e+29</td><td>2.088047e+31</td><td>1.333736e+33</td><td>8.881784e+34</td><td>6.156120e+36</td><td>4.434265e+38</td><td>3.314552e+40</td><td>2.567686e+42</td><td>2.058911e+44</td></tr>\n",
       "\t<tr><td>1.706917e+46</td><td>1.461502e+48</td><td>1.291100e+50</td><td>1.175664e+52</td><td>1.102507e+54</td><td>1.063874e+56</td><td>1.055513e+58</td><td>1.075912e+60</td><td>1.125951e+62</td><td>1.208926e+64</td></tr>\n",
       "\t<tr><td>1.330878e+66</td><td>1.501309e+68</td><td>1.734377e+70</td><td>2.050774e+72</td><td>2.480636e+74</td><td>3.068035e+76</td><td>3.877924e+78</td><td>5.007021e+80</td><td>6.600972e+82</td><td>8.881784e+84</td></tr>\n",
       "</tbody>\n",
       "</table>\n"
      ],
      "text/latex": [
       "\\begin{tabular}{llllllllll}\n",
       "\t 1.000000e+00 & 4.000000e+00 & 2.700000e+01 & 2.560000e+02 & 3.125000e+03 & 4.665600e+04 & 8.235430e+05 & 1.677722e+07 & 3.874205e+08 & 1.000000e+10\\\\\n",
       "\t 2.853117e+11 & 8.916100e+12 & 3.028751e+14 & 1.111201e+16 & 4.378939e+17 & 1.844674e+19 & 8.272403e+20 & 3.934641e+22 & 1.978420e+24 & 1.048576e+26\\\\\n",
       "\t 5.842587e+27 & 3.414279e+29 & 2.088047e+31 & 1.333736e+33 & 8.881784e+34 & 6.156120e+36 & 4.434265e+38 & 3.314552e+40 & 2.567686e+42 & 2.058911e+44\\\\\n",
       "\t 1.706917e+46 & 1.461502e+48 & 1.291100e+50 & 1.175664e+52 & 1.102507e+54 & 1.063874e+56 & 1.055513e+58 & 1.075912e+60 & 1.125951e+62 & 1.208926e+64\\\\\n",
       "\t 1.330878e+66 & 1.501309e+68 & 1.734377e+70 & 2.050774e+72 & 2.480636e+74 & 3.068035e+76 & 3.877924e+78 & 5.007021e+80 & 6.600972e+82 & 8.881784e+84\\\\\n",
       "\\end{tabular}\n"
      ],
      "text/markdown": [
       "\n",
       "| 1.000000e+00 | 4.000000e+00 | 2.700000e+01 | 2.560000e+02 | 3.125000e+03 | 4.665600e+04 | 8.235430e+05 | 1.677722e+07 | 3.874205e+08 | 1.000000e+10 |\n",
       "| 2.853117e+11 | 8.916100e+12 | 3.028751e+14 | 1.111201e+16 | 4.378939e+17 | 1.844674e+19 | 8.272403e+20 | 3.934641e+22 | 1.978420e+24 | 1.048576e+26 |\n",
       "| 5.842587e+27 | 3.414279e+29 | 2.088047e+31 | 1.333736e+33 | 8.881784e+34 | 6.156120e+36 | 4.434265e+38 | 3.314552e+40 | 2.567686e+42 | 2.058911e+44 |\n",
       "| 1.706917e+46 | 1.461502e+48 | 1.291100e+50 | 1.175664e+52 | 1.102507e+54 | 1.063874e+56 | 1.055513e+58 | 1.075912e+60 | 1.125951e+62 | 1.208926e+64 |\n",
       "| 1.330878e+66 | 1.501309e+68 | 1.734377e+70 | 2.050774e+72 | 2.480636e+74 | 3.068035e+76 | 3.877924e+78 | 5.007021e+80 | 6.600972e+82 | 8.881784e+84 |\n",
       "\n"
      ],
      "text/plain": [
       "     [,1]         [,2]         [,3]         [,4]         [,5]        \n",
       "[1,] 1.000000e+00 4.000000e+00 2.700000e+01 2.560000e+02 3.125000e+03\n",
       "[2,] 2.853117e+11 8.916100e+12 3.028751e+14 1.111201e+16 4.378939e+17\n",
       "[3,] 5.842587e+27 3.414279e+29 2.088047e+31 1.333736e+33 8.881784e+34\n",
       "[4,] 1.706917e+46 1.461502e+48 1.291100e+50 1.175664e+52 1.102507e+54\n",
       "[5,] 1.330878e+66 1.501309e+68 1.734377e+70 2.050774e+72 2.480636e+74\n",
       "     [,6]         [,7]         [,8]         [,9]         [,10]       \n",
       "[1,] 4.665600e+04 8.235430e+05 1.677722e+07 3.874205e+08 1.000000e+10\n",
       "[2,] 1.844674e+19 8.272403e+20 3.934641e+22 1.978420e+24 1.048576e+26\n",
       "[3,] 6.156120e+36 4.434265e+38 3.314552e+40 2.567686e+42 2.058911e+44\n",
       "[4,] 1.063874e+56 1.055513e+58 1.075912e+60 1.125951e+62 1.208926e+64\n",
       "[5,] 3.068035e+76 3.877924e+78 5.007021e+80 6.600972e+82 8.881784e+84"
      ]
     },
     "metadata": {},
     "output_type": "display_data"
    }
   ],
   "source": [
    "mat ^mat"
   ]
  },
  {
   "cell_type": "code",
   "execution_count": 35,
   "metadata": {},
   "outputs": [],
   "source": [
    "mat2 <- matrix(1:9, nrow=3)"
   ]
  },
  {
   "cell_type": "code",
   "execution_count": 36,
   "metadata": {},
   "outputs": [
    {
     "data": {
      "text/html": [
       "<table>\n",
       "<tbody>\n",
       "\t<tr><td>1 </td><td>16</td><td>49</td></tr>\n",
       "\t<tr><td>4 </td><td>25</td><td>64</td></tr>\n",
       "\t<tr><td>9 </td><td>36</td><td>81</td></tr>\n",
       "</tbody>\n",
       "</table>\n"
      ],
      "text/latex": [
       "\\begin{tabular}{lll}\n",
       "\t 1  & 16 & 49\\\\\n",
       "\t 4  & 25 & 64\\\\\n",
       "\t 9  & 36 & 81\\\\\n",
       "\\end{tabular}\n"
      ],
      "text/markdown": [
       "\n",
       "| 1  | 16 | 49 |\n",
       "| 4  | 25 | 64 |\n",
       "| 9  | 36 | 81 |\n",
       "\n"
      ],
      "text/plain": [
       "     [,1] [,2] [,3]\n",
       "[1,] 1    16   49  \n",
       "[2,] 4    25   64  \n",
       "[3,] 9    36   81  "
      ]
     },
     "metadata": {},
     "output_type": "display_data"
    }
   ],
   "source": [
    "mat2*mat2 #multiply the elements"
   ]
  },
  {
   "cell_type": "code",
   "execution_count": 37,
   "metadata": {},
   "outputs": [
    {
     "data": {
      "text/html": [
       "<table>\n",
       "<tbody>\n",
       "\t<tr><td>30 </td><td>66 </td><td>102</td></tr>\n",
       "\t<tr><td>36 </td><td>81 </td><td>126</td></tr>\n",
       "\t<tr><td>42 </td><td>96 </td><td>150</td></tr>\n",
       "</tbody>\n",
       "</table>\n"
      ],
      "text/latex": [
       "\\begin{tabular}{lll}\n",
       "\t 30  & 66  & 102\\\\\n",
       "\t 36  & 81  & 126\\\\\n",
       "\t 42  & 96  & 150\\\\\n",
       "\\end{tabular}\n"
      ],
      "text/markdown": [
       "\n",
       "| 30  | 66  | 102 |\n",
       "| 36  | 81  | 126 |\n",
       "| 42  | 96  | 150 |\n",
       "\n"
      ],
      "text/plain": [
       "     [,1] [,2] [,3]\n",
       "[1,] 30   66   102 \n",
       "[2,] 36   81   126 \n",
       "[3,] 42   96   150 "
      ]
     },
     "metadata": {},
     "output_type": "display_data"
    }
   ],
   "source": [
    "#%*%, matrix multiplication\n",
    "mat2 %*% mat2"
   ]
  },
  {
   "cell_type": "code",
   "execution_count": 38,
   "metadata": {},
   "outputs": [
    {
     "data": {
      "text/html": [
       "<table>\n",
       "<thead><tr><th></th><th scope=col>M</th><th scope=col>T</th><th scope=col>W</th><th scope=col>Th</th><th scope=col>F</th></tr></thead>\n",
       "<tbody>\n",
       "\t<tr><th scope=row>Lewiston</th><td>12</td><td>14</td><td>18</td><td>13</td><td>17</td></tr>\n",
       "\t<tr><th scope=row>RockyMount</th><td>11</td><td>19</td><td>21</td><td>15</td><td>18</td></tr>\n",
       "\t<tr><th scope=row>Whiteille</th><td>14</td><td>17</td><td>23</td><td>11</td><td> 9</td></tr>\n",
       "</tbody>\n",
       "</table>\n"
      ],
      "text/latex": [
       "\\begin{tabular}{r|lllll}\n",
       "  & M & T & W & Th & F\\\\\n",
       "\\hline\n",
       "\tLewiston & 12 & 14 & 18 & 13 & 17\\\\\n",
       "\tRockyMount & 11 & 19 & 21 & 15 & 18\\\\\n",
       "\tWhiteille & 14 & 17 & 23 & 11 &  9\\\\\n",
       "\\end{tabular}\n"
      ],
      "text/markdown": [
       "\n",
       "| <!--/--> | M | T | W | Th | F |\n",
       "|---|---|---|---|---|---|\n",
       "| Lewiston | 12 | 14 | 18 | 13 | 17 |\n",
       "| RockyMount | 11 | 19 | 21 | 15 | 18 |\n",
       "| Whiteille | 14 | 17 | 23 | 11 |  9 |\n",
       "\n"
      ],
      "text/plain": [
       "           M  T  W  Th F \n",
       "Lewiston   12 14 18 13 17\n",
       "RockyMount 11 19 21 15 18\n",
       "Whiteille  14 17 23 11  9"
      ]
     },
     "metadata": {},
     "output_type": "display_data"
    }
   ],
   "source": [
    "weights.matrix"
   ]
  },
  {
   "cell_type": "code",
   "execution_count": 40,
   "metadata": {},
   "outputs": [
    {
     "data": {
      "text/html": [
       "<dl class=dl-horizontal>\n",
       "\t<dt>M</dt>\n",
       "\t\t<dd>37</dd>\n",
       "\t<dt>T</dt>\n",
       "\t\t<dd>50</dd>\n",
       "\t<dt>W</dt>\n",
       "\t\t<dd>62</dd>\n",
       "\t<dt>Th</dt>\n",
       "\t\t<dd>39</dd>\n",
       "\t<dt>F</dt>\n",
       "\t\t<dd>44</dd>\n",
       "</dl>\n"
      ],
      "text/latex": [
       "\\begin{description*}\n",
       "\\item[M] 37\n",
       "\\item[T] 50\n",
       "\\item[W] 62\n",
       "\\item[Th] 39\n",
       "\\item[F] 44\n",
       "\\end{description*}\n"
      ],
      "text/markdown": [
       "M\n",
       ":   37T\n",
       ":   50W\n",
       ":   62Th\n",
       ":   39F\n",
       ":   44\n",
       "\n"
      ],
      "text/plain": [
       " M  T  W Th  F \n",
       "37 50 62 39 44 "
      ]
     },
     "metadata": {},
     "output_type": "display_data"
    }
   ],
   "source": [
    "colSums(weights.matrix)"
   ]
  },
  {
   "cell_type": "code",
   "execution_count": 41,
   "metadata": {},
   "outputs": [
    {
     "data": {
      "text/html": [
       "<dl class=dl-horizontal>\n",
       "\t<dt>Lewiston</dt>\n",
       "\t\t<dd>74</dd>\n",
       "\t<dt>RockyMount</dt>\n",
       "\t\t<dd>84</dd>\n",
       "\t<dt>Whiteille</dt>\n",
       "\t\t<dd>74</dd>\n",
       "</dl>\n"
      ],
      "text/latex": [
       "\\begin{description*}\n",
       "\\item[Lewiston] 74\n",
       "\\item[RockyMount] 84\n",
       "\\item[Whiteille] 74\n",
       "\\end{description*}\n"
      ],
      "text/markdown": [
       "Lewiston\n",
       ":   74RockyMount\n",
       ":   84Whiteille\n",
       ":   74\n",
       "\n"
      ],
      "text/plain": [
       "  Lewiston RockyMount  Whiteille \n",
       "        74         84         74 "
      ]
     },
     "metadata": {},
     "output_type": "display_data"
    }
   ],
   "source": [
    "rowSums(weights.matrix)"
   ]
  },
  {
   "cell_type": "code",
   "execution_count": 42,
   "metadata": {},
   "outputs": [
    {
     "data": {
      "text/html": [
       "<dl class=dl-horizontal>\n",
       "\t<dt>M</dt>\n",
       "\t\t<dd>12.3333333333333</dd>\n",
       "\t<dt>T</dt>\n",
       "\t\t<dd>16.6666666666667</dd>\n",
       "\t<dt>W</dt>\n",
       "\t\t<dd>20.6666666666667</dd>\n",
       "\t<dt>Th</dt>\n",
       "\t\t<dd>13</dd>\n",
       "\t<dt>F</dt>\n",
       "\t\t<dd>14.6666666666667</dd>\n",
       "</dl>\n"
      ],
      "text/latex": [
       "\\begin{description*}\n",
       "\\item[M] 12.3333333333333\n",
       "\\item[T] 16.6666666666667\n",
       "\\item[W] 20.6666666666667\n",
       "\\item[Th] 13\n",
       "\\item[F] 14.6666666666667\n",
       "\\end{description*}\n"
      ],
      "text/markdown": [
       "M\n",
       ":   12.3333333333333T\n",
       ":   16.6666666666667W\n",
       ":   20.6666666666667Th\n",
       ":   13F\n",
       ":   14.6666666666667\n",
       "\n"
      ],
      "text/plain": [
       "       M        T        W       Th        F \n",
       "12.33333 16.66667 20.66667 13.00000 14.66667 "
      ]
     },
     "metadata": {},
     "output_type": "display_data"
    }
   ],
   "source": [
    "colMeans(weights.matrix)"
   ]
  },
  {
   "cell_type": "code",
   "execution_count": 43,
   "metadata": {},
   "outputs": [
    {
     "data": {
      "text/html": [
       "<dl class=dl-horizontal>\n",
       "\t<dt>Lewiston</dt>\n",
       "\t\t<dd>14.8</dd>\n",
       "\t<dt>RockyMount</dt>\n",
       "\t\t<dd>16.8</dd>\n",
       "\t<dt>Whiteille</dt>\n",
       "\t\t<dd>14.8</dd>\n",
       "</dl>\n"
      ],
      "text/latex": [
       "\\begin{description*}\n",
       "\\item[Lewiston] 14.8\n",
       "\\item[RockyMount] 16.8\n",
       "\\item[Whiteille] 14.8\n",
       "\\end{description*}\n"
      ],
      "text/markdown": [
       "Lewiston\n",
       ":   14.8RockyMount\n",
       ":   16.8Whiteille\n",
       ":   14.8\n",
       "\n"
      ],
      "text/plain": [
       "  Lewiston RockyMount  Whiteille \n",
       "      14.8       16.8       14.8 "
      ]
     },
     "metadata": {},
     "output_type": "display_data"
    }
   ],
   "source": [
    "rowMeans(weights.matrix)"
   ]
  },
  {
   "cell_type": "code",
   "execution_count": 44,
   "metadata": {},
   "outputs": [],
   "source": [
    "#add the clayton location onto weights.matrix\n",
    "Clayton <- c(17,23,15,19,13)\n"
   ]
  },
  {
   "cell_type": "code",
   "execution_count": 45,
   "metadata": {},
   "outputs": [],
   "source": [
    "#cbind() or rbind()\n",
    "ncsu.matrix <- rbind(weights.matrix, Clayton)"
   ]
  },
  {
   "cell_type": "code",
   "execution_count": 46,
   "metadata": {},
   "outputs": [
    {
     "data": {
      "text/html": [
       "<table>\n",
       "<thead><tr><th></th><th scope=col>M</th><th scope=col>T</th><th scope=col>W</th><th scope=col>Th</th><th scope=col>F</th></tr></thead>\n",
       "<tbody>\n",
       "\t<tr><th scope=row>Lewiston</th><td>12</td><td>14</td><td>18</td><td>13</td><td>17</td></tr>\n",
       "\t<tr><th scope=row>RockyMount</th><td>11</td><td>19</td><td>21</td><td>15</td><td>18</td></tr>\n",
       "\t<tr><th scope=row>Whiteille</th><td>14</td><td>17</td><td>23</td><td>11</td><td> 9</td></tr>\n",
       "\t<tr><th scope=row>Clayton</th><td>17</td><td>23</td><td>15</td><td>19</td><td>13</td></tr>\n",
       "</tbody>\n",
       "</table>\n"
      ],
      "text/latex": [
       "\\begin{tabular}{r|lllll}\n",
       "  & M & T & W & Th & F\\\\\n",
       "\\hline\n",
       "\tLewiston & 12 & 14 & 18 & 13 & 17\\\\\n",
       "\tRockyMount & 11 & 19 & 21 & 15 & 18\\\\\n",
       "\tWhiteille & 14 & 17 & 23 & 11 &  9\\\\\n",
       "\tClayton & 17 & 23 & 15 & 19 & 13\\\\\n",
       "\\end{tabular}\n"
      ],
      "text/markdown": [
       "\n",
       "| <!--/--> | M | T | W | Th | F |\n",
       "|---|---|---|---|---|---|\n",
       "| Lewiston | 12 | 14 | 18 | 13 | 17 |\n",
       "| RockyMount | 11 | 19 | 21 | 15 | 18 |\n",
       "| Whiteille | 14 | 17 | 23 | 11 |  9 |\n",
       "| Clayton | 17 | 23 | 15 | 19 | 13 |\n",
       "\n"
      ],
      "text/plain": [
       "           M  T  W  Th F \n",
       "Lewiston   12 14 18 13 17\n",
       "RockyMount 11 19 21 15 18\n",
       "Whiteille  14 17 23 11  9\n",
       "Clayton    17 23 15 19 13"
      ]
     },
     "metadata": {},
     "output_type": "display_data"
    }
   ],
   "source": [
    "ncsu.matrix"
   ]
  },
  {
   "cell_type": "code",
   "execution_count": 47,
   "metadata": {},
   "outputs": [],
   "source": [
    "Means.loc <- rowMeans(ncsu.matrix)"
   ]
  },
  {
   "cell_type": "code",
   "execution_count": 48,
   "metadata": {},
   "outputs": [
    {
     "data": {
      "text/html": [
       "<dl class=dl-horizontal>\n",
       "\t<dt>Lewiston</dt>\n",
       "\t\t<dd>14.8</dd>\n",
       "\t<dt>RockyMount</dt>\n",
       "\t\t<dd>16.8</dd>\n",
       "\t<dt>Whiteille</dt>\n",
       "\t\t<dd>14.8</dd>\n",
       "\t<dt>Clayton</dt>\n",
       "\t\t<dd>17.4</dd>\n",
       "</dl>\n"
      ],
      "text/latex": [
       "\\begin{description*}\n",
       "\\item[Lewiston] 14.8\n",
       "\\item[RockyMount] 16.8\n",
       "\\item[Whiteille] 14.8\n",
       "\\item[Clayton] 17.4\n",
       "\\end{description*}\n"
      ],
      "text/markdown": [
       "Lewiston\n",
       ":   14.8RockyMount\n",
       ":   16.8Whiteille\n",
       ":   14.8Clayton\n",
       ":   17.4\n",
       "\n"
      ],
      "text/plain": [
       "  Lewiston RockyMount  Whiteille    Clayton \n",
       "      14.8       16.8       14.8       17.4 "
      ]
     },
     "metadata": {},
     "output_type": "display_data"
    }
   ],
   "source": [
    "Means.loc"
   ]
  },
  {
   "cell_type": "code",
   "execution_count": 49,
   "metadata": {},
   "outputs": [],
   "source": [
    "ncsu.matrix <- cbind(ncsu.matrix, Means.loc)"
   ]
  },
  {
   "cell_type": "code",
   "execution_count": 50,
   "metadata": {},
   "outputs": [
    {
     "data": {
      "text/html": [
       "<table>\n",
       "<thead><tr><th></th><th scope=col>M</th><th scope=col>T</th><th scope=col>W</th><th scope=col>Th</th><th scope=col>F</th><th scope=col>Means.loc</th></tr></thead>\n",
       "<tbody>\n",
       "\t<tr><th scope=row>Lewiston</th><td>12  </td><td>14  </td><td>18  </td><td>13  </td><td>17  </td><td>14.8</td></tr>\n",
       "\t<tr><th scope=row>RockyMount</th><td>11  </td><td>19  </td><td>21  </td><td>15  </td><td>18  </td><td>16.8</td></tr>\n",
       "\t<tr><th scope=row>Whiteille</th><td>14  </td><td>17  </td><td>23  </td><td>11  </td><td> 9  </td><td>14.8</td></tr>\n",
       "\t<tr><th scope=row>Clayton</th><td>17  </td><td>23  </td><td>15  </td><td>19  </td><td>13  </td><td>17.4</td></tr>\n",
       "</tbody>\n",
       "</table>\n"
      ],
      "text/latex": [
       "\\begin{tabular}{r|llllll}\n",
       "  & M & T & W & Th & F & Means.loc\\\\\n",
       "\\hline\n",
       "\tLewiston & 12   & 14   & 18   & 13   & 17   & 14.8\\\\\n",
       "\tRockyMount & 11   & 19   & 21   & 15   & 18   & 16.8\\\\\n",
       "\tWhiteille & 14   & 17   & 23   & 11   &  9   & 14.8\\\\\n",
       "\tClayton & 17   & 23   & 15   & 19   & 13   & 17.4\\\\\n",
       "\\end{tabular}\n"
      ],
      "text/markdown": [
       "\n",
       "| <!--/--> | M | T | W | Th | F | Means.loc |\n",
       "|---|---|---|---|---|---|---|\n",
       "| Lewiston | 12   | 14   | 18   | 13   | 17   | 14.8 |\n",
       "| RockyMount | 11   | 19   | 21   | 15   | 18   | 16.8 |\n",
       "| Whiteille | 14   | 17   | 23   | 11   |  9   | 14.8 |\n",
       "| Clayton | 17   | 23   | 15   | 19   | 13   | 17.4 |\n",
       "\n"
      ],
      "text/plain": [
       "           M  T  W  Th F  Means.loc\n",
       "Lewiston   12 14 18 13 17 14.8     \n",
       "RockyMount 11 19 21 15 18 16.8     \n",
       "Whiteille  14 17 23 11  9 14.8     \n",
       "Clayton    17 23 15 19 13 17.4     "
      ]
     },
     "metadata": {},
     "output_type": "display_data"
    }
   ],
   "source": [
    "ncsu.matrix"
   ]
  },
  {
   "cell_type": "code",
   "execution_count": 51,
   "metadata": {},
   "outputs": [],
   "source": [
    "short <- c(2,18,12)\n",
    "long <- c(12, 11,10,9,8)"
   ]
  },
  {
   "cell_type": "code",
   "execution_count": 52,
   "metadata": {},
   "outputs": [
    {
     "name": "stderr",
     "output_type": "stream",
     "text": [
      "Warning message in cbind(ncsu.matrix, short):\n",
      "\"number of rows of result is not a multiple of vector length (arg 2)\""
     ]
    },
    {
     "data": {
      "text/html": [
       "<table>\n",
       "<thead><tr><th></th><th scope=col>M</th><th scope=col>T</th><th scope=col>W</th><th scope=col>Th</th><th scope=col>F</th><th scope=col>Means.loc</th><th scope=col>short</th></tr></thead>\n",
       "<tbody>\n",
       "\t<tr><th scope=row>Lewiston</th><td>12  </td><td>14  </td><td>18  </td><td>13  </td><td>17  </td><td>14.8</td><td> 2  </td></tr>\n",
       "\t<tr><th scope=row>RockyMount</th><td>11  </td><td>19  </td><td>21  </td><td>15  </td><td>18  </td><td>16.8</td><td>18  </td></tr>\n",
       "\t<tr><th scope=row>Whiteille</th><td>14  </td><td>17  </td><td>23  </td><td>11  </td><td> 9  </td><td>14.8</td><td>12  </td></tr>\n",
       "\t<tr><th scope=row>Clayton</th><td>17  </td><td>23  </td><td>15  </td><td>19  </td><td>13  </td><td>17.4</td><td> 2  </td></tr>\n",
       "</tbody>\n",
       "</table>\n"
      ],
      "text/latex": [
       "\\begin{tabular}{r|lllllll}\n",
       "  & M & T & W & Th & F & Means.loc & short\\\\\n",
       "\\hline\n",
       "\tLewiston & 12   & 14   & 18   & 13   & 17   & 14.8 &  2  \\\\\n",
       "\tRockyMount & 11   & 19   & 21   & 15   & 18   & 16.8 & 18  \\\\\n",
       "\tWhiteille & 14   & 17   & 23   & 11   &  9   & 14.8 & 12  \\\\\n",
       "\tClayton & 17   & 23   & 15   & 19   & 13   & 17.4 &  2  \\\\\n",
       "\\end{tabular}\n"
      ],
      "text/markdown": [
       "\n",
       "| <!--/--> | M | T | W | Th | F | Means.loc | short |\n",
       "|---|---|---|---|---|---|---|---|\n",
       "| Lewiston | 12   | 14   | 18   | 13   | 17   | 14.8 |  2   |\n",
       "| RockyMount | 11   | 19   | 21   | 15   | 18   | 16.8 | 18   |\n",
       "| Whiteille | 14   | 17   | 23   | 11   |  9   | 14.8 | 12   |\n",
       "| Clayton | 17   | 23   | 15   | 19   | 13   | 17.4 |  2   |\n",
       "\n"
      ],
      "text/plain": [
       "           M  T  W  Th F  Means.loc short\n",
       "Lewiston   12 14 18 13 17 14.8       2   \n",
       "RockyMount 11 19 21 15 18 16.8      18   \n",
       "Whiteille  14 17 23 11  9 14.8      12   \n",
       "Clayton    17 23 15 19 13 17.4       2   "
      ]
     },
     "metadata": {},
     "output_type": "display_data"
    }
   ],
   "source": [
    "cbind(ncsu.matrix,short)"
   ]
  },
  {
   "cell_type": "code",
   "execution_count": 53,
   "metadata": {},
   "outputs": [
    {
     "name": "stderr",
     "output_type": "stream",
     "text": [
      "Warning message in cbind(ncsu.matrix, long):\n",
      "\"number of rows of result is not a multiple of vector length (arg 2)\""
     ]
    },
    {
     "data": {
      "text/html": [
       "<table>\n",
       "<thead><tr><th></th><th scope=col>M</th><th scope=col>T</th><th scope=col>W</th><th scope=col>Th</th><th scope=col>F</th><th scope=col>Means.loc</th><th scope=col>long</th></tr></thead>\n",
       "<tbody>\n",
       "\t<tr><th scope=row>Lewiston</th><td>12  </td><td>14  </td><td>18  </td><td>13  </td><td>17  </td><td>14.8</td><td>12  </td></tr>\n",
       "\t<tr><th scope=row>RockyMount</th><td>11  </td><td>19  </td><td>21  </td><td>15  </td><td>18  </td><td>16.8</td><td>11  </td></tr>\n",
       "\t<tr><th scope=row>Whiteille</th><td>14  </td><td>17  </td><td>23  </td><td>11  </td><td> 9  </td><td>14.8</td><td>10  </td></tr>\n",
       "\t<tr><th scope=row>Clayton</th><td>17  </td><td>23  </td><td>15  </td><td>19  </td><td>13  </td><td>17.4</td><td> 9  </td></tr>\n",
       "</tbody>\n",
       "</table>\n"
      ],
      "text/latex": [
       "\\begin{tabular}{r|lllllll}\n",
       "  & M & T & W & Th & F & Means.loc & long\\\\\n",
       "\\hline\n",
       "\tLewiston & 12   & 14   & 18   & 13   & 17   & 14.8 & 12  \\\\\n",
       "\tRockyMount & 11   & 19   & 21   & 15   & 18   & 16.8 & 11  \\\\\n",
       "\tWhiteille & 14   & 17   & 23   & 11   &  9   & 14.8 & 10  \\\\\n",
       "\tClayton & 17   & 23   & 15   & 19   & 13   & 17.4 &  9  \\\\\n",
       "\\end{tabular}\n"
      ],
      "text/markdown": [
       "\n",
       "| <!--/--> | M | T | W | Th | F | Means.loc | long |\n",
       "|---|---|---|---|---|---|---|---|\n",
       "| Lewiston | 12   | 14   | 18   | 13   | 17   | 14.8 | 12   |\n",
       "| RockyMount | 11   | 19   | 21   | 15   | 18   | 16.8 | 11   |\n",
       "| Whiteille | 14   | 17   | 23   | 11   |  9   | 14.8 | 10   |\n",
       "| Clayton | 17   | 23   | 15   | 19   | 13   | 17.4 |  9   |\n",
       "\n"
      ],
      "text/plain": [
       "           M  T  W  Th F  Means.loc long\n",
       "Lewiston   12 14 18 13 17 14.8      12  \n",
       "RockyMount 11 19 21 15 18 16.8      11  \n",
       "Whiteille  14 17 23 11  9 14.8      10  \n",
       "Clayton    17 23 15 19 13 17.4       9  "
      ]
     },
     "metadata": {},
     "output_type": "display_data"
    }
   ],
   "source": [
    "cbind(ncsu.matrix,long)"
   ]
  },
  {
   "cell_type": "code",
   "execution_count": 54,
   "metadata": {},
   "outputs": [],
   "source": [
    "#example.matrix[row,col]\n",
    "mat <-matrix(1:50, byrow =T, nrow = 5)"
   ]
  },
  {
   "cell_type": "code",
   "execution_count": 55,
   "metadata": {},
   "outputs": [
    {
     "data": {
      "text/html": [
       "<table>\n",
       "<tbody>\n",
       "\t<tr><td> 1</td><td> 2</td><td> 3</td><td> 4</td><td> 5</td><td> 6</td><td> 7</td><td> 8</td><td> 9</td><td>10</td></tr>\n",
       "\t<tr><td>11</td><td>12</td><td>13</td><td>14</td><td>15</td><td>16</td><td>17</td><td>18</td><td>19</td><td>20</td></tr>\n",
       "\t<tr><td>21</td><td>22</td><td>23</td><td>24</td><td>25</td><td>26</td><td>27</td><td>28</td><td>29</td><td>30</td></tr>\n",
       "\t<tr><td>31</td><td>32</td><td>33</td><td>34</td><td>35</td><td>36</td><td>37</td><td>38</td><td>39</td><td>40</td></tr>\n",
       "\t<tr><td>41</td><td>42</td><td>43</td><td>44</td><td>45</td><td>46</td><td>47</td><td>48</td><td>49</td><td>50</td></tr>\n",
       "</tbody>\n",
       "</table>\n"
      ],
      "text/latex": [
       "\\begin{tabular}{llllllllll}\n",
       "\t  1 &  2 &  3 &  4 &  5 &  6 &  7 &  8 &  9 & 10\\\\\n",
       "\t 11 & 12 & 13 & 14 & 15 & 16 & 17 & 18 & 19 & 20\\\\\n",
       "\t 21 & 22 & 23 & 24 & 25 & 26 & 27 & 28 & 29 & 30\\\\\n",
       "\t 31 & 32 & 33 & 34 & 35 & 36 & 37 & 38 & 39 & 40\\\\\n",
       "\t 41 & 42 & 43 & 44 & 45 & 46 & 47 & 48 & 49 & 50\\\\\n",
       "\\end{tabular}\n"
      ],
      "text/markdown": [
       "\n",
       "|  1 |  2 |  3 |  4 |  5 |  6 |  7 |  8 |  9 | 10 |\n",
       "| 11 | 12 | 13 | 14 | 15 | 16 | 17 | 18 | 19 | 20 |\n",
       "| 21 | 22 | 23 | 24 | 25 | 26 | 27 | 28 | 29 | 30 |\n",
       "| 31 | 32 | 33 | 34 | 35 | 36 | 37 | 38 | 39 | 40 |\n",
       "| 41 | 42 | 43 | 44 | 45 | 46 | 47 | 48 | 49 | 50 |\n",
       "\n"
      ],
      "text/plain": [
       "     [,1] [,2] [,3] [,4] [,5] [,6] [,7] [,8] [,9] [,10]\n",
       "[1,]  1    2    3    4    5    6    7    8    9   10   \n",
       "[2,] 11   12   13   14   15   16   17   18   19   20   \n",
       "[3,] 21   22   23   24   25   26   27   28   29   30   \n",
       "[4,] 31   32   33   34   35   36   37   38   39   40   \n",
       "[5,] 41   42   43   44   45   46   47   48   49   50   "
      ]
     },
     "metadata": {},
     "output_type": "display_data"
    }
   ],
   "source": [
    "mat"
   ]
  },
  {
   "cell_type": "code",
   "execution_count": 56,
   "metadata": {},
   "outputs": [
    {
     "data": {
      "text/html": [
       "<ol class=list-inline>\n",
       "\t<li>1</li>\n",
       "\t<li>2</li>\n",
       "\t<li>3</li>\n",
       "\t<li>4</li>\n",
       "\t<li>5</li>\n",
       "\t<li>6</li>\n",
       "\t<li>7</li>\n",
       "\t<li>8</li>\n",
       "\t<li>9</li>\n",
       "\t<li>10</li>\n",
       "</ol>\n"
      ],
      "text/latex": [
       "\\begin{enumerate*}\n",
       "\\item 1\n",
       "\\item 2\n",
       "\\item 3\n",
       "\\item 4\n",
       "\\item 5\n",
       "\\item 6\n",
       "\\item 7\n",
       "\\item 8\n",
       "\\item 9\n",
       "\\item 10\n",
       "\\end{enumerate*}\n"
      ],
      "text/markdown": [
       "1. 1\n",
       "2. 2\n",
       "3. 3\n",
       "4. 4\n",
       "5. 5\n",
       "6. 6\n",
       "7. 7\n",
       "8. 8\n",
       "9. 9\n",
       "10. 10\n",
       "\n",
       "\n"
      ],
      "text/plain": [
       " [1]  1  2  3  4  5  6  7  8  9 10"
      ]
     },
     "metadata": {},
     "output_type": "display_data"
    }
   ],
   "source": [
    "mat[1,]"
   ]
  },
  {
   "cell_type": "code",
   "execution_count": 57,
   "metadata": {},
   "outputs": [
    {
     "data": {
      "text/html": [
       "<ol class=list-inline>\n",
       "\t<li>1</li>\n",
       "\t<li>11</li>\n",
       "\t<li>21</li>\n",
       "\t<li>31</li>\n",
       "\t<li>41</li>\n",
       "</ol>\n"
      ],
      "text/latex": [
       "\\begin{enumerate*}\n",
       "\\item 1\n",
       "\\item 11\n",
       "\\item 21\n",
       "\\item 31\n",
       "\\item 41\n",
       "\\end{enumerate*}\n"
      ],
      "text/markdown": [
       "1. 1\n",
       "2. 11\n",
       "3. 21\n",
       "4. 31\n",
       "5. 41\n",
       "\n",
       "\n"
      ],
      "text/plain": [
       "[1]  1 11 21 31 41"
      ]
     },
     "metadata": {},
     "output_type": "display_data"
    }
   ],
   "source": [
    "mat[,1]"
   ]
  },
  {
   "cell_type": "code",
   "execution_count": 58,
   "metadata": {},
   "outputs": [
    {
     "data": {
      "text/html": [
       "<table>\n",
       "<tbody>\n",
       "\t<tr><td> 1</td><td> 2</td><td> 3</td><td> 4</td><td> 5</td><td> 6</td><td> 7</td><td> 8</td><td> 9</td><td>10</td></tr>\n",
       "\t<tr><td>11</td><td>12</td><td>13</td><td>14</td><td>15</td><td>16</td><td>17</td><td>18</td><td>19</td><td>20</td></tr>\n",
       "\t<tr><td>21</td><td>22</td><td>23</td><td>24</td><td>25</td><td>26</td><td>27</td><td>28</td><td>29</td><td>30</td></tr>\n",
       "</tbody>\n",
       "</table>\n"
      ],
      "text/latex": [
       "\\begin{tabular}{llllllllll}\n",
       "\t  1 &  2 &  3 &  4 &  5 &  6 &  7 &  8 &  9 & 10\\\\\n",
       "\t 11 & 12 & 13 & 14 & 15 & 16 & 17 & 18 & 19 & 20\\\\\n",
       "\t 21 & 22 & 23 & 24 & 25 & 26 & 27 & 28 & 29 & 30\\\\\n",
       "\\end{tabular}\n"
      ],
      "text/markdown": [
       "\n",
       "|  1 |  2 |  3 |  4 |  5 |  6 |  7 |  8 |  9 | 10 |\n",
       "| 11 | 12 | 13 | 14 | 15 | 16 | 17 | 18 | 19 | 20 |\n",
       "| 21 | 22 | 23 | 24 | 25 | 26 | 27 | 28 | 29 | 30 |\n",
       "\n"
      ],
      "text/plain": [
       "     [,1] [,2] [,3] [,4] [,5] [,6] [,7] [,8] [,9] [,10]\n",
       "[1,]  1    2    3    4    5    6    7    8    9   10   \n",
       "[2,] 11   12   13   14   15   16   17   18   19   20   \n",
       "[3,] 21   22   23   24   25   26   27   28   29   30   "
      ]
     },
     "metadata": {},
     "output_type": "display_data"
    }
   ],
   "source": [
    "mat[1:3,]"
   ]
  },
  {
   "cell_type": "code",
   "execution_count": 59,
   "metadata": {},
   "outputs": [
    {
     "data": {
      "text/html": [
       "<table>\n",
       "<tbody>\n",
       "\t<tr><td> 1</td><td> 2</td><td> 3</td></tr>\n",
       "\t<tr><td>11</td><td>12</td><td>13</td></tr>\n",
       "</tbody>\n",
       "</table>\n"
      ],
      "text/latex": [
       "\\begin{tabular}{lll}\n",
       "\t  1 &  2 &  3\\\\\n",
       "\t 11 & 12 & 13\\\\\n",
       "\\end{tabular}\n"
      ],
      "text/markdown": [
       "\n",
       "|  1 |  2 |  3 |\n",
       "| 11 | 12 | 13 |\n",
       "\n"
      ],
      "text/plain": [
       "     [,1] [,2] [,3]\n",
       "[1,]  1    2    3  \n",
       "[2,] 11   12   13  "
      ]
     },
     "metadata": {},
     "output_type": "display_data"
    }
   ],
   "source": [
    "mat[1:2,1:3]"
   ]
  },
  {
   "cell_type": "code",
   "execution_count": 60,
   "metadata": {},
   "outputs": [
    {
     "data": {
      "text/html": [
       "<table>\n",
       "<tbody>\n",
       "\t<tr><td> 9</td><td>10</td></tr>\n",
       "\t<tr><td>19</td><td>20</td></tr>\n",
       "\t<tr><td>29</td><td>30</td></tr>\n",
       "\t<tr><td>39</td><td>40</td></tr>\n",
       "\t<tr><td>49</td><td>50</td></tr>\n",
       "</tbody>\n",
       "</table>\n"
      ],
      "text/latex": [
       "\\begin{tabular}{ll}\n",
       "\t  9 & 10\\\\\n",
       "\t 19 & 20\\\\\n",
       "\t 29 & 30\\\\\n",
       "\t 39 & 40\\\\\n",
       "\t 49 & 50\\\\\n",
       "\\end{tabular}\n"
      ],
      "text/markdown": [
       "\n",
       "|  9 | 10 |\n",
       "| 19 | 20 |\n",
       "| 29 | 30 |\n",
       "| 39 | 40 |\n",
       "| 49 | 50 |\n",
       "\n"
      ],
      "text/plain": [
       "     [,1] [,2]\n",
       "[1,]  9   10  \n",
       "[2,] 19   20  \n",
       "[3,] 29   30  \n",
       "[4,] 39   40  \n",
       "[5,] 49   50  "
      ]
     },
     "metadata": {},
     "output_type": "display_data"
    }
   ],
   "source": [
    "mat[,9:10]"
   ]
  },
  {
   "cell_type": "code",
   "execution_count": 63,
   "metadata": {},
   "outputs": [],
   "source": [
    "#Factor and categorical matricies\n",
    "#factor()\n",
    "\n",
    "#Example: P(peanut), M(maize),S(soy), C(cotton)\n",
    "\n",
    "crop <- c('P','P','C','M','C','S','P','S','M','P')\n",
    "id <- c(1:10)"
   ]
  },
  {
   "cell_type": "code",
   "execution_count": 65,
   "metadata": {},
   "outputs": [],
   "source": [
    "factor.crop <- factor(crop)"
   ]
  },
  {
   "cell_type": "code",
   "execution_count": 66,
   "metadata": {},
   "outputs": [
    {
     "data": {
      "text/html": [
       "<ol class=list-inline>\n",
       "\t<li>P</li>\n",
       "\t<li>P</li>\n",
       "\t<li>C</li>\n",
       "\t<li>M</li>\n",
       "\t<li>C</li>\n",
       "\t<li>S</li>\n",
       "\t<li>P</li>\n",
       "\t<li>S</li>\n",
       "\t<li>M</li>\n",
       "\t<li>P</li>\n",
       "</ol>\n",
       "\n",
       "<details>\n",
       "\t<summary style=display:list-item;cursor:pointer>\n",
       "\t\t<strong>Levels</strong>:\n",
       "\t</summary>\n",
       "\t<ol class=list-inline>\n",
       "\t\t<li>'C'</li>\n",
       "\t\t<li>'M'</li>\n",
       "\t\t<li>'P'</li>\n",
       "\t\t<li>'S'</li>\n",
       "\t</ol>\n",
       "</details>"
      ],
      "text/latex": [
       "\\begin{enumerate*}\n",
       "\\item P\n",
       "\\item P\n",
       "\\item C\n",
       "\\item M\n",
       "\\item C\n",
       "\\item S\n",
       "\\item P\n",
       "\\item S\n",
       "\\item M\n",
       "\\item P\n",
       "\\end{enumerate*}\n",
       "\n",
       "\\emph{Levels}: \\begin{enumerate*}\n",
       "\\item 'C'\n",
       "\\item 'M'\n",
       "\\item 'P'\n",
       "\\item 'S'\n",
       "\\end{enumerate*}\n"
      ],
      "text/markdown": [
       "1. P\n",
       "2. P\n",
       "3. C\n",
       "4. M\n",
       "5. C\n",
       "6. S\n",
       "7. P\n",
       "8. S\n",
       "9. M\n",
       "10. P\n",
       "\n",
       "\n",
       "\n",
       "**Levels**: 1. 'C'\n",
       "2. 'M'\n",
       "3. 'P'\n",
       "4. 'S'\n",
       "\n",
       "\n"
      ],
      "text/plain": [
       " [1] P P C M C S P S M P\n",
       "Levels: C M P S"
      ]
     },
     "metadata": {},
     "output_type": "display_data"
    }
   ],
   "source": [
    "factor.crop"
   ]
  },
  {
   "cell_type": "code",
   "execution_count": 67,
   "metadata": {},
   "outputs": [],
   "source": [
    "ord.cat <- c('Cold','Med','Hot')"
   ]
  },
  {
   "cell_type": "code",
   "execution_count": 68,
   "metadata": {},
   "outputs": [],
   "source": [
    "#ordered = TRUE\n",
    "#levels = c('The order')\n",
    "temps <- c('cold','hot','hot','med','cold','hot','med')"
   ]
  },
  {
   "cell_type": "code",
   "execution_count": 69,
   "metadata": {},
   "outputs": [],
   "source": [
    "fact.temps <- factor(temps, ordered = T, levels=c('cold', 'med', 'hot'))"
   ]
  },
  {
   "cell_type": "code",
   "execution_count": 70,
   "metadata": {},
   "outputs": [
    {
     "data": {
      "text/html": [
       "<ol class=list-inline>\n",
       "\t<li>cold</li>\n",
       "\t<li>hot</li>\n",
       "\t<li>hot</li>\n",
       "\t<li>med</li>\n",
       "\t<li>cold</li>\n",
       "\t<li>hot</li>\n",
       "\t<li>med</li>\n",
       "</ol>\n",
       "\n",
       "<details>\n",
       "\t<summary style=display:list-item;cursor:pointer>\n",
       "\t\t<strong>Levels</strong>:\n",
       "\t</summary>\n",
       "\t<ol class=list-inline>\n",
       "\t\t<li>'cold'</li>\n",
       "\t\t<li>'med'</li>\n",
       "\t\t<li>'hot'</li>\n",
       "\t</ol>\n",
       "</details>"
      ],
      "text/latex": [
       "\\begin{enumerate*}\n",
       "\\item cold\n",
       "\\item hot\n",
       "\\item hot\n",
       "\\item med\n",
       "\\item cold\n",
       "\\item hot\n",
       "\\item med\n",
       "\\end{enumerate*}\n",
       "\n",
       "\\emph{Levels}: \\begin{enumerate*}\n",
       "\\item 'cold'\n",
       "\\item 'med'\n",
       "\\item 'hot'\n",
       "\\end{enumerate*}\n"
      ],
      "text/markdown": [
       "1. cold\n",
       "2. hot\n",
       "3. hot\n",
       "4. med\n",
       "5. cold\n",
       "6. hot\n",
       "7. med\n",
       "\n",
       "\n",
       "\n",
       "**Levels**: 1. 'cold'\n",
       "2. 'med'\n",
       "3. 'hot'\n",
       "\n",
       "\n"
      ],
      "text/plain": [
       "[1] cold hot  hot  med  cold hot  med \n",
       "Levels: cold < med < hot"
      ]
     },
     "metadata": {},
     "output_type": "display_data"
    }
   ],
   "source": [
    "fact.temps"
   ]
  },
  {
   "cell_type": "code",
   "execution_count": 71,
   "metadata": {},
   "outputs": [
    {
     "data": {
      "text/plain": [
       "   Length     Class      Mode \n",
       "        7 character character "
      ]
     },
     "metadata": {},
     "output_type": "display_data"
    }
   ],
   "source": [
    "#summary\n",
    "summary(temps)"
   ]
  },
  {
   "cell_type": "code",
   "execution_count": 72,
   "metadata": {},
   "outputs": [
    {
     "data": {
      "text/html": [
       "<dl class=dl-horizontal>\n",
       "\t<dt>cold</dt>\n",
       "\t\t<dd>2</dd>\n",
       "\t<dt>med</dt>\n",
       "\t\t<dd>2</dd>\n",
       "\t<dt>hot</dt>\n",
       "\t\t<dd>3</dd>\n",
       "</dl>\n"
      ],
      "text/latex": [
       "\\begin{description*}\n",
       "\\item[cold] 2\n",
       "\\item[med] 2\n",
       "\\item[hot] 3\n",
       "\\end{description*}\n"
      ],
      "text/markdown": [
       "cold\n",
       ":   2med\n",
       ":   2hot\n",
       ":   3\n",
       "\n"
      ],
      "text/plain": [
       "cold  med  hot \n",
       "   2    2    3 "
      ]
     },
     "metadata": {},
     "output_type": "display_data"
    }
   ],
   "source": [
    "summary(fact.temps)"
   ]
  },
  {
   "cell_type": "code",
   "execution_count": null,
   "metadata": {},
   "outputs": [],
   "source": []
  }
 ],
 "metadata": {
  "kernelspec": {
   "display_name": "R",
   "language": "R",
   "name": "ir"
  },
  "language_info": {
   "codemirror_mode": "r",
   "file_extension": ".r",
   "mimetype": "text/x-r-source",
   "name": "R",
   "pygments_lexer": "r",
   "version": "3.6.1"
  }
 },
 "nbformat": 4,
 "nbformat_minor": 2
}
